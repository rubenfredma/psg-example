{
  "nbformat": 4,
  "nbformat_minor": 0,
  "metadata": {
    "colab": {
      "provenance": []
    },
    "kernelspec": {
      "name": "python3",
      "display_name": "Python 3"
    },
    "language_info": {
      "name": "python"
    }
  },
  "cells": [
    {
      "cell_type": "markdown",
      "source": [
        "**Sesion 15: Errores y excepciones Try-Except**"
      ],
      "metadata": {
        "id": "7dr29EEFua-9"
      }
    },
    {
      "cell_type": "code",
      "source": [
        "# Ejemplo 1, División por cero\n",
        "print (\"Inicio Ejemplo 1\")\n",
        "x = 1 / 0\n",
        "print (x)\n",
        "print (\"Fin Ejemplo 1\")"
      ],
      "metadata": {
        "colab": {
          "base_uri": "https://localhost:8080/",
          "height": 238
        },
        "id": "7-l6HWd8uaSu",
        "outputId": "9eb0e4cb-9c9b-4652-e983-3148416a6905"
      },
      "execution_count": 1,
      "outputs": [
        {
          "output_type": "stream",
          "name": "stdout",
          "text": [
            "Inicio Ejemplo 1\n"
          ]
        },
        {
          "output_type": "error",
          "ename": "ZeroDivisionError",
          "evalue": "division by zero",
          "traceback": [
            "\u001b[0;31m---------------------------------------------------------------------------\u001b[0m",
            "\u001b[0;31mZeroDivisionError\u001b[0m                         Traceback (most recent call last)",
            "\u001b[0;32m<ipython-input-1-0f5bc9a442d9>\u001b[0m in \u001b[0;36m<cell line: 3>\u001b[0;34m()\u001b[0m\n\u001b[1;32m      1\u001b[0m \u001b[0;31m# Ejemplo 1, División por cero\u001b[0m\u001b[0;34m\u001b[0m\u001b[0;34m\u001b[0m\u001b[0m\n\u001b[1;32m      2\u001b[0m \u001b[0mprint\u001b[0m \u001b[0;34m(\u001b[0m\u001b[0;34m\"Inicio Ejemplo 1\"\u001b[0m\u001b[0;34m)\u001b[0m\u001b[0;34m\u001b[0m\u001b[0;34m\u001b[0m\u001b[0m\n\u001b[0;32m----> 3\u001b[0;31m \u001b[0mx\u001b[0m \u001b[0;34m=\u001b[0m \u001b[0;36m1\u001b[0m \u001b[0;34m/\u001b[0m \u001b[0;36m0\u001b[0m\u001b[0;34m\u001b[0m\u001b[0;34m\u001b[0m\u001b[0m\n\u001b[0m\u001b[1;32m      4\u001b[0m \u001b[0mprint\u001b[0m \u001b[0;34m(\u001b[0m\u001b[0mx\u001b[0m\u001b[0;34m)\u001b[0m\u001b[0;34m\u001b[0m\u001b[0;34m\u001b[0m\u001b[0m\n\u001b[1;32m      5\u001b[0m \u001b[0mprint\u001b[0m \u001b[0;34m(\u001b[0m\u001b[0;34m\"Fin Ejemplo 1\"\u001b[0m\u001b[0;34m)\u001b[0m\u001b[0;34m\u001b[0m\u001b[0;34m\u001b[0m\u001b[0m\n",
            "\u001b[0;31mZeroDivisionError\u001b[0m: division by zero"
          ]
        }
      ]
    },
    {
      "cell_type": "code",
      "source": [
        "print (\"Inicio Ejemplo 1\")\n",
        "\n",
        "try:\n",
        "    x = 1 / 0\n",
        "    print (x)\n",
        "except Exception as e:\n",
        "    print(\"💀 Error:\", e, type(e))\n",
        "\n",
        "print (\"Fin Ejemplo 1\")"
      ],
      "metadata": {
        "colab": {
          "base_uri": "https://localhost:8080/"
        },
        "id": "6a8C-kO-vW87",
        "outputId": "0d6185a3-ef2f-459a-ddef-592d410443db"
      },
      "execution_count": 2,
      "outputs": [
        {
          "output_type": "stream",
          "name": "stdout",
          "text": [
            "Inicio Ejemplo 1\n",
            "💀 Error: division by zero <class 'ZeroDivisionError'>\n",
            "Fin Ejemplo 1\n"
          ]
        }
      ]
    },
    {
      "cell_type": "code",
      "source": [
        "# Ejercicio 1, Crear un programa que solicite dos números y realice la división\n",
        "# de ambos números Si hay un error mostrar un mensaje de error\n",
        "#El programa se detiene si se ingresa \"salir\"\n",
        "\n",
        "while True:\n",
        "    try:\n",
        "        n1 = input(\"Digite un nro: \")\n",
        "        n2 = input(\"Digite el 2do numero: \")\n",
        "\n",
        "        if n1 == \"salir\" or n2 == \"salir\":\n",
        "            break\n",
        "\n",
        "        division = int(n1)/int(n2)\n",
        "        print(f\"{n1}/{n2}={division}\")\n",
        "\n",
        "    except Exception as e:\n",
        "        print(\"💀 Error:\", e, type(e))"
      ],
      "metadata": {
        "colab": {
          "base_uri": "https://localhost:8080/"
        },
        "id": "lPxqy03LvW_8",
        "outputId": "00c4a3d3-7c31-45b4-b106-20ae45dc5916"
      },
      "execution_count": 5,
      "outputs": [
        {
          "name": "stdout",
          "output_type": "stream",
          "text": [
            "Digite un nro: fsdf\n",
            "Digite el 2do numero: 0\n",
            "💀 Error: invalid literal for int() with base 10: 'fsdf' <class 'ValueError'>\n",
            "Digite un nro: 23\n",
            "Digite el 2do numero: f34sf\n",
            "💀 Error: invalid literal for int() with base 10: 'f34sf' <class 'ValueError'>\n",
            "Digite un nro: 34\n",
            "Digite el 2do numero: 2\n",
            "34/2=17.0\n",
            "Digite un nro: salir\n",
            "Digite el 2do numero: salir\n"
          ]
        }
      ]
    },
    {
      "cell_type": "code",
      "source": [
        "while True:\n",
        "    try:\n",
        "        num1 = input(\"Ingrese el primer número: \")\n",
        "        if num1 == \"salir\":\n",
        "            break\n",
        "        num2 = input(\"Ingrese el segundo número: \")\n",
        "        if num2 == \"salir\":\n",
        "            break\n",
        "        num1 = float(num1)\n",
        "        num2 = float(num2)\n",
        "        print(\"Resultado:\", num1 / num2)\n",
        "    except Exception as e:\n",
        "        print(\"💀 Error:\", e)"
      ],
      "metadata": {
        "colab": {
          "base_uri": "https://localhost:8080/"
        },
        "id": "aIFjRbBWvXDE",
        "outputId": "df53c3ae-c839-406b-f195-3f7118c537ad"
      },
      "execution_count": 6,
      "outputs": [
        {
          "name": "stdout",
          "output_type": "stream",
          "text": [
            "Ingrese el primer número: 2\n",
            "Ingrese el segundo número: 2\n",
            "Resultado: 1.0\n",
            "Ingrese el primer número: 0\n",
            "Ingrese el segundo número: 1\n",
            "Resultado: 0.0\n",
            "Ingrese el primer número: 1\n",
            "Ingrese el segundo número: 0\n",
            "💀 Error: float division by zero\n",
            "Ingrese el primer número: as\n",
            "Ingrese el segundo número: ds\n",
            "💀 Error: could not convert string to float: 'as'\n",
            "Ingrese el primer número: e\n",
            "Ingrese el segundo número: 3\n",
            "💀 Error: could not convert string to float: 'e'\n",
            "Ingrese el primer número: 1.0\n",
            "Ingrese el segundo número: 243\n",
            "Resultado: 0.00411522633744856\n",
            "Ingrese el primer número: 23\n",
            "Ingrese el segundo número: salir\n"
          ]
        }
      ]
    },
    {
      "cell_type": "code",
      "source": [
        "# NameError: Se produce cuando no se encuentra una variable\n",
        "if a == 10:\n",
        "    print(True)"
      ],
      "metadata": {
        "id": "wBhZcUmzuaWV"
      },
      "execution_count": 15,
      "outputs": []
    },
    {
      "cell_type": "code",
      "source": [
        "try:\n",
        "    if a == 10:\n",
        "        print(True)\n",
        "\n",
        "except Exception as e:\n",
        "    print(\"💀 Error:\", e)"
      ],
      "metadata": {
        "id": "0Dc7W7pS4bzy"
      },
      "execution_count": 14,
      "outputs": []
    },
    {
      "cell_type": "code",
      "source": [
        "# KeyError: Se produce cuando se intenta acceder a una clave que no existe en un diccionario\n",
        "a = {\"a\":1}\n",
        "print(a[\"b\"])"
      ],
      "metadata": {
        "colab": {
          "base_uri": "https://localhost:8080/",
          "height": 165
        },
        "id": "GAx3yvQO2iL2",
        "outputId": "2dbca92d-dfa0-4b12-cf34-797fa87011e6"
      },
      "execution_count": 9,
      "outputs": [
        {
          "output_type": "error",
          "ename": "KeyError",
          "evalue": "'b'",
          "traceback": [
            "\u001b[0;31m---------------------------------------------------------------------------\u001b[0m",
            "\u001b[0;31mKeyError\u001b[0m                                  Traceback (most recent call last)",
            "\u001b[0;32m<ipython-input-9-15e82e203253>\u001b[0m in \u001b[0;36m<cell line: 2>\u001b[0;34m()\u001b[0m\n\u001b[1;32m      1\u001b[0m \u001b[0ma\u001b[0m \u001b[0;34m=\u001b[0m \u001b[0;34m{\u001b[0m\u001b[0;34m\"a\"\u001b[0m\u001b[0;34m:\u001b[0m\u001b[0;36m1\u001b[0m\u001b[0;34m}\u001b[0m\u001b[0;34m\u001b[0m\u001b[0;34m\u001b[0m\u001b[0m\n\u001b[0;32m----> 2\u001b[0;31m \u001b[0mprint\u001b[0m\u001b[0;34m(\u001b[0m\u001b[0ma\u001b[0m\u001b[0;34m[\u001b[0m\u001b[0;34m\"b\"\u001b[0m\u001b[0;34m]\u001b[0m\u001b[0;34m)\u001b[0m\u001b[0;34m\u001b[0m\u001b[0;34m\u001b[0m\u001b[0m\n\u001b[0m",
            "\u001b[0;31mKeyError\u001b[0m: 'b'"
          ]
        }
      ]
    },
    {
      "cell_type": "code",
      "source": [
        "# IndexError: Se produce cuando se intenta acceder a un índice que no existe en una lista\n",
        "a = [1,2,3]\n",
        "print(a[10])"
      ],
      "metadata": {
        "colab": {
          "base_uri": "https://localhost:8080/",
          "height": 183
        },
        "id": "20yy8Frf2iPG",
        "outputId": "7a08a95d-cdd6-4a81-8d30-7187c10e7ac0"
      },
      "execution_count": 16,
      "outputs": [
        {
          "output_type": "error",
          "ename": "IndexError",
          "evalue": "list index out of range",
          "traceback": [
            "\u001b[0;31m---------------------------------------------------------------------------\u001b[0m",
            "\u001b[0;31mIndexError\u001b[0m                                Traceback (most recent call last)",
            "\u001b[0;32m<ipython-input-16-0737cd557c23>\u001b[0m in \u001b[0;36m<cell line: 3>\u001b[0;34m()\u001b[0m\n\u001b[1;32m      1\u001b[0m \u001b[0;31m# IndexError: Se produce cuando se intenta acceder a un índice que no existe en una lista\u001b[0m\u001b[0;34m\u001b[0m\u001b[0;34m\u001b[0m\u001b[0m\n\u001b[1;32m      2\u001b[0m \u001b[0ma\u001b[0m \u001b[0;34m=\u001b[0m \u001b[0;34m[\u001b[0m\u001b[0;36m1\u001b[0m\u001b[0;34m,\u001b[0m\u001b[0;36m2\u001b[0m\u001b[0;34m,\u001b[0m\u001b[0;36m3\u001b[0m\u001b[0;34m]\u001b[0m\u001b[0;34m\u001b[0m\u001b[0;34m\u001b[0m\u001b[0m\n\u001b[0;32m----> 3\u001b[0;31m \u001b[0mprint\u001b[0m\u001b[0;34m(\u001b[0m\u001b[0ma\u001b[0m\u001b[0;34m[\u001b[0m\u001b[0;36m10\u001b[0m\u001b[0;34m]\u001b[0m\u001b[0;34m)\u001b[0m\u001b[0;34m\u001b[0m\u001b[0;34m\u001b[0m\u001b[0m\n\u001b[0m",
            "\u001b[0;31mIndexError\u001b[0m: list index out of range"
          ]
        }
      ]
    },
    {
      "cell_type": "code",
      "source": [
        "# Ejemplo 2, División por cero\n",
        "print (\"Inicio Ejemplo 2\")\n",
        "divisor = 0\n",
        "try:\n",
        "    x = 1 / divisor\n",
        "    print (x)\n",
        "except ZeroDivisionError as e:\n",
        "    print(\"0️⃣ Error:\", e, type(e))\n",
        "except Exception as e:   # parte  no se ejecutada y salta al final\n",
        "    print(\"💀 Error:\", e, type(e))\n",
        "print (\"Fin Ejemplo 2\")"
      ],
      "metadata": {
        "colab": {
          "base_uri": "https://localhost:8080/"
        },
        "id": "B88BCpER2iSd",
        "outputId": "9fc888dd-f23c-47fc-d81a-ad69a9b15cbc"
      },
      "execution_count": 17,
      "outputs": [
        {
          "output_type": "stream",
          "name": "stdout",
          "text": [
            "Inicio Ejemplo 2\n",
            "0️⃣ Error: division by zero <class 'ZeroDivisionError'>\n",
            "Fin Ejemplo 2\n"
          ]
        }
      ]
    },
    {
      "cell_type": "code",
      "source": [
        "# ahora va a dividir con una cadena\n",
        "print (\"Inicio Ejemplo 2\")\n",
        "divisor = \"0\"\n",
        "try:\n",
        "    x = 1 / divisor\n",
        "    print (x)\n",
        "except ZeroDivisionError as e:  # se salta\n",
        "    print(\"0️⃣ Error:\", e, type(e))\n",
        "except Exception as e:\n",
        "    print(\"💀 Error:\", e, type(e))\n",
        "print (\"Fin Ejemplo 2\")"
      ],
      "metadata": {
        "colab": {
          "base_uri": "https://localhost:8080/"
        },
        "id": "EnKWuA-m5qaG",
        "outputId": "80823bb6-adf6-494b-8d45-16e1b13adbf2"
      },
      "execution_count": 18,
      "outputs": [
        {
          "output_type": "stream",
          "name": "stdout",
          "text": [
            "Inicio Ejemplo 2\n",
            "💀 Error: unsupported operand type(s) for /: 'int' and 'str' <class 'TypeError'>\n",
            "Fin Ejemplo 2\n"
          ]
        }
      ]
    },
    {
      "cell_type": "code",
      "source": [
        "# Jerarquía de excepciones\n",
        "# Ejemplo 2, División por cero   invirtiendo las lineas de except\n",
        "print (\"Inicio Ejemplo 2\")\n",
        "divisor = 0\n",
        "try:\n",
        "    x = 1 / divisor\n",
        "    print (x)\n",
        "except Exception as e: # Captura cualquier excepción -GENERICO\n",
        "    print(\"💀 Error:\", e, type(e))\n",
        "except ZeroDivisionError as e:   # esta parte se salta\n",
        "    print(\"0️⃣ Error:\", e, type(e))\n",
        "print (\"Fin Ejemplo 2\")"
      ],
      "metadata": {
        "colab": {
          "base_uri": "https://localhost:8080/"
        },
        "id": "VOww2Ppi5qdL",
        "outputId": "0ceac6a8-11dd-4a40-ff39-c2832c5153f8"
      },
      "execution_count": 19,
      "outputs": [
        {
          "output_type": "stream",
          "name": "stdout",
          "text": [
            "Inicio Ejemplo 2\n",
            "💀 Error: division by zero <class 'ZeroDivisionError'>\n",
            "Fin Ejemplo 2\n"
          ]
        }
      ]
    },
    {
      "cell_type": "code",
      "source": [
        "# LA EXCEPCION GENERICA  COLOCAR AL FINAL\n",
        "# EXCEPCIONES ESPECIFICAS AL INICIO"
      ],
      "metadata": {
        "id": "AN1cvVZ85qgE"
      },
      "execution_count": null,
      "outputs": []
    },
    {
      "cell_type": "code",
      "source": [
        "# Ejemplo 3, De la lista de calificaciones obtener el promedio\n",
        "calificaciones = [20,40,80,\"A\"]\n",
        "suma = 0\n",
        "try:\n",
        "    for i in range(len(calificaciones)+1):\n",
        "        suma += calificaciones[i]\n",
        "    promedio = suma / len(calificaciones)\n",
        "    print(\"Promedio:\", promedio)\n",
        "except ZeroDivisionError as e:\n",
        "    print(\"0️⃣ Error:\", e, type(e))\n",
        "except TypeError as e:\n",
        "    print(\"🎭 Error:\", e, type(e))\n",
        "except Exception as e:\n",
        "    print(\"💀 Error:\", e, type(e))"
      ],
      "metadata": {
        "colab": {
          "base_uri": "https://localhost:8080/"
        },
        "id": "Y1pFBb9_5qik",
        "outputId": "6d22d578-b0f0-4846-8fb8-16ba7ba56204"
      },
      "execution_count": 20,
      "outputs": [
        {
          "output_type": "stream",
          "name": "stdout",
          "text": [
            "🎭 Error: unsupported operand type(s) for +=: 'int' and 'str' <class 'TypeError'>\n"
          ]
        }
      ]
    },
    {
      "cell_type": "code",
      "source": [
        "# Ejemplo 3, De la lista de calificaciones obtener el promedio\n",
        "# OTRO TIPO DE ERROR, INDEX demas\n",
        "calificaciones = [20,40,80]\n",
        "suma = 0\n",
        "try:\n",
        "    for i in range(len(calificaciones)+1):\n",
        "        suma += calificaciones[i]\n",
        "    promedio = suma / len(calificaciones)\n",
        "    print(\"Promedio:\", promedio)\n",
        "except ZeroDivisionError as e:\n",
        "    print(\"0️⃣ Error:\", e, type(e))\n",
        "except TypeError as e:\n",
        "    print(\"🎭 Error:\", e, type(e))\n",
        "except Exception as e: # Captura cualquier excepción\n",
        "    print(\"💀 Error:\", e, type(e))"
      ],
      "metadata": {
        "colab": {
          "base_uri": "https://localhost:8080/"
        },
        "id": "PzjZrl5H7zf_",
        "outputId": "65e73c50-f1d4-4023-c49f-36b908da603c"
      },
      "execution_count": 21,
      "outputs": [
        {
          "output_type": "stream",
          "name": "stdout",
          "text": [
            "💀 Error: list index out of range <class 'IndexError'>\n"
          ]
        }
      ]
    },
    {
      "cell_type": "code",
      "source": [
        "# mismo ejemplo correguido\n",
        "# Ejemplo 3, De la lista de calificaciones obtener el promedio\n",
        "calificaciones = [20,40,80]\n",
        "suma = 0\n",
        "try:\n",
        "    for i in range(len(calificaciones)):\n",
        "        suma += calificaciones[i] # suma = suma + calificaciones[i]\n",
        "    promedio = suma / len(calificaciones)\n",
        "    print(\"Promedio:\", promedio)\n",
        "except ZeroDivisionError as e:\n",
        "    print(\"0️⃣ Error:\", e, type(e))\n",
        "except TypeError as e:\n",
        "    print(\"🎭 Error:\", e, type(e))\n",
        "except Exception as e:\n",
        "    print(\"💀 Error:\", e, type(e))"
      ],
      "metadata": {
        "colab": {
          "base_uri": "https://localhost:8080/"
        },
        "id": "pqSpIWWO7zjt",
        "outputId": "2c3238d1-0e6c-4d52-d97e-ae50293bdc6c"
      },
      "execution_count": 22,
      "outputs": [
        {
          "output_type": "stream",
          "name": "stdout",
          "text": [
            "Promedio: 46.666666666666664\n"
          ]
        }
      ]
    },
    {
      "cell_type": "code",
      "source": [
        "# Bloque else, se ejecuta si no hay except\n",
        "# usado para validar entrada-datos o mostrar un mensaje de exito"
      ],
      "metadata": {
        "id": "jLVD01559SGM"
      },
      "execution_count": null,
      "outputs": []
    },
    {
      "cell_type": "code",
      "source": [
        "# Ejemplo 4, De la lista de calificaciones obtener el promedio\n",
        "print (\"Inicio Ejemplo 4\")\n",
        "calificaciones = [20,40,80]\n",
        "suma = 0\n",
        "try:\n",
        "    for i in range(len(calificaciones)):\n",
        "        suma += calificaciones[i]\n",
        "    promedio = suma / len(calificaciones)\n",
        "    print(\"Promedio:\", promedio)\n",
        "except Exception as e:\n",
        "    print(\"💀 Error:\", e, type(e))\n",
        "else:\n",
        "    print (\"🎉 Sin errores\")\n",
        "print (\"Fin Ejemplo 4\")"
      ],
      "metadata": {
        "colab": {
          "base_uri": "https://localhost:8080/"
        },
        "id": "J6GyIgQINgwM",
        "outputId": "a5981f40-600b-48a7-f0f5-03165f416d82"
      },
      "execution_count": 1,
      "outputs": [
        {
          "output_type": "stream",
          "name": "stdout",
          "text": [
            "Inicio Ejemplo 4\n",
            "Promedio: 46.666666666666664\n",
            "🎉 Sin errores\n",
            "Fin Ejemplo 4\n"
          ]
        }
      ]
    },
    {
      "cell_type": "code",
      "source": [
        "# Ejercicio 2, Crear un programa que solicite dos números y mediante una función\n",
        "# devuelva la división de ambos\n",
        "# Si hay un error mostrar un mensaje de error. El programa se detiene si se ingresa \"salir\"\n",
        "# Añadir un bloque else que muestre el resultado de la función\n",
        "\n",
        "def division(num1, num2):\n",
        "    return num1 / num2\n",
        "\n",
        "while True:\n",
        "    try:\n",
        "        num1 = input(\"Ingrese el primer número: \")\n",
        "        if num1 == \"salir\":\n",
        "            break\n",
        "        num2 = input(\"Ingrese el segundo número: \")\n",
        "        if num2 == \"salir\":\n",
        "            break\n",
        "        num1 = float(num1)\n",
        "        num2 = float(num2)\n",
        "        resultado = division(num1, num2)\n",
        "    except Exception as e:\n",
        "        print(\"💀 Error:\", e)\n",
        "    else:\n",
        "        print(\"🎉 Resultado: \",resultado)"
      ],
      "metadata": {
        "colab": {
          "base_uri": "https://localhost:8080/"
        },
        "id": "x1GAchUlNgzQ",
        "outputId": "60b6f5bc-ed08-4d7b-c022-c673ed6461b1"
      },
      "execution_count": 3,
      "outputs": [
        {
          "name": "stdout",
          "output_type": "stream",
          "text": [
            "Ingrese el primer número: 10\n",
            "Ingrese el segundo número: 10\n",
            "🎉 Resultado:  1.0\n",
            "Ingrese el primer número: 0\n",
            "Ingrese el segundo número: 2\n",
            "🎉 Resultado:  0.0\n",
            "Ingrese el primer número: 2\n",
            "Ingrese el segundo número: 0\n",
            "💀 Error: float division by zero\n",
            "Ingrese el primer número: a\n",
            "Ingrese el segundo número: b\n",
            "💀 Error: could not convert string to float: 'a'\n",
            "Ingrese el primer número: salir\n"
          ]
        }
      ]
    },
    {
      "cell_type": "code",
      "source": [
        "# bloque finally => que se ejecuta siempre\n",
        "try:\n",
        "    # Código que puede lanzar una excepción\n",
        "except Exception as e:\n",
        "    # Código si se produce una excepción\n",
        "else:\n",
        "    # Código si no se produce ninguna excepción\n",
        "finally:\n",
        "    # Código que se ejecuta siempre\n"
      ],
      "metadata": {
        "id": "w4KcYgvsNg1s"
      },
      "execution_count": null,
      "outputs": []
    },
    {
      "cell_type": "code",
      "source": [
        "# Ejemplo 5, Simula una conexión a internet que haga ping y cerrar la conexión\n",
        "print (\"Inicio Ejemplo 5\")\n",
        "try:\n",
        "    print(\"🔗 Ping...\")\n",
        "except Exception as e:\n",
        "    print(\"💀 Error:\", e)\n",
        "else:\n",
        "    print(\"🎉 Ping Exitoso\")\n",
        "finally:\n",
        "    print(\"🔌 Cerrando conexión\")"
      ],
      "metadata": {
        "colab": {
          "base_uri": "https://localhost:8080/"
        },
        "id": "SDefkLA19SJc",
        "outputId": "67af8002-a327-456d-ade3-10b636af16d4"
      },
      "execution_count": 4,
      "outputs": [
        {
          "output_type": "stream",
          "name": "stdout",
          "text": [
            "Inicio Ejemplo 5\n",
            "🔗 Ping...\n",
            "🎉 Ping Exitoso\n",
            "🔌 Cerrando conexión\n"
          ]
        }
      ]
    },
    {
      "cell_type": "code",
      "source": [
        "# ¿Cómo generamos una excepción?\n",
        "# Para probar que finally se ejecuta siempre\n",
        "\n",
        "# raise se utiliza para generar una excepción\n",
        "# Se puede generar una excepción específica o una excepción genérica\n",
        "raise Exception(\"Mensaje de error\")"
      ],
      "metadata": {
        "id": "nVKy3a_BWEjL"
      },
      "execution_count": null,
      "outputs": []
    },
    {
      "cell_type": "code",
      "source": [
        "# Ejemplo 6, Simula una conexión a internet que haga ping y cerrar la conexión\n",
        "print (\"Inicio Ejemplo 6\")\n",
        "try:\n",
        "    print(\"🔗 Ping...\")\n",
        "    raise Exception(\"Error de conexión\") #Excepción genérica\n",
        "except Exception as e: # Captura cualquier excepción\n",
        "    print(\"💀 Error:\", e)\n",
        "else:\n",
        "    print(\"🎉 Ping Exitoso\")\n",
        "finally:\n",
        "    print(\"🔌 Cerrando conexión\")"
      ],
      "metadata": {
        "colab": {
          "base_uri": "https://localhost:8080/"
        },
        "id": "q6srSG3OWElz",
        "outputId": "f7daebae-043c-4892-dfdb-3c7022f4d47d"
      },
      "execution_count": 5,
      "outputs": [
        {
          "output_type": "stream",
          "name": "stdout",
          "text": [
            "Inicio Ejemplo 6\n",
            "🔗 Ping...\n",
            "💀 Error: Error de conexión\n",
            "🔌 Cerrando conexión\n"
          ]
        }
      ]
    },
    {
      "cell_type": "code",
      "source": [
        "# Ejercicio 3, Escriba un programa que solicite un número por teclado\n",
        "# y se almacene en una lista\n",
        "#  Si es 0 se genera una excepción\n",
        "#  Si la ejecución es correcta muestra \"🎉Agregado\"\n",
        "#  Termina la ejecución sólo con la palabra \"salir\"\n",
        "#     utilizar la excepción KeyboardInterrupt(anula el ctrl+C)\n",
        "#  Finalmente imprima siempre la suma de los números y la lista\n",
        "numeros = []\n",
        "while True:\n",
        "    try:\n",
        "        num = input(\"Ingrese un número: \")\n",
        "        if num == \"salir\":\n",
        "            break\n",
        "        num = float(num)\n",
        "        if num == 0:\n",
        "            raise Exception(\"No se puede agregar el número 0\")\n",
        "        numeros.append(num)\n",
        "    except KeyboardInterrupt as e:\n",
        "        print('🚫 Para salir escriba \"salir\"')\n",
        "    except Exception as e:\n",
        "        print(\"💀 Error:\", e)\n",
        "    else:\n",
        "        print(\"🎉 Número agregado\")\n",
        "    finally:\n",
        "        print(\"Suma:\", sum(numeros))"
      ],
      "metadata": {
        "colab": {
          "base_uri": "https://localhost:8080/"
        },
        "id": "vStLldoPWEoD",
        "outputId": "83479a26-6420-4709-9b71-d813dc834eb3"
      },
      "execution_count": 6,
      "outputs": [
        {
          "output_type": "stream",
          "name": "stdout",
          "text": [
            "Ingrese un número: 1\n",
            "🎉 Número agregado\n",
            "Suma: 1.0\n",
            "Ingrese un número: 2\n",
            "🎉 Número agregado\n",
            "Suma: 3.0\n",
            "Ingrese un número: 3\n",
            "🎉 Número agregado\n",
            "Suma: 6.0\n",
            "Ingrese un número: 3\n",
            "🎉 Número agregado\n",
            "Suma: 9.0\n",
            "Ingrese un número: salir\n",
            "Suma: 9.0\n"
          ]
        }
      ]
    },
    {
      "cell_type": "code",
      "source": [
        "a=2\n",
        "if a==2:\n",
        "    print(\"a es igual a 2\")\n",
        "else:\n",
        "    # para esta parte no esta claro q poner\n",
        ""
      ],
      "metadata": {
        "colab": {
          "base_uri": "https://localhost:8080/",
          "height": 110
        },
        "id": "gOFNkDwaWEqu",
        "outputId": "9ec7ace2-5c56-4a65-fade-05be3d3149f3"
      },
      "execution_count": 7,
      "outputs": [
        {
          "output_type": "error",
          "ename": "SyntaxError",
          "evalue": "incomplete input (<ipython-input-7-37626cdaf138>, line 6)",
          "traceback": [
            "\u001b[0;36m  File \u001b[0;32m\"<ipython-input-7-37626cdaf138>\"\u001b[0;36m, line \u001b[0;32m6\u001b[0m\n\u001b[0;31m    \u001b[0m\n\u001b[0m    ^\u001b[0m\n\u001b[0;31mSyntaxError\u001b[0m\u001b[0;31m:\u001b[0m incomplete input\n"
          ]
        }
      ]
    },
    {
      "cell_type": "code",
      "source": [
        "# PASS,  palabra reservada que no hace nada\n",
        "# usado para evitar errores de sintaxis, o de identacion"
      ],
      "metadata": {
        "id": "oL3TE5YJe2qA"
      },
      "execution_count": null,
      "outputs": []
    },
    {
      "cell_type": "code",
      "source": [
        "# Ejemplo 7, Crea una función que no hace nada, todavia se esta completando la funcion\n",
        "print(\"Inicio Ejemplo 7\")\n",
        "def funcion():\n",
        "    pass\n",
        "\n",
        "funcion()\n",
        "print(\"Fin Ejemplo 7\")"
      ],
      "metadata": {
        "colab": {
          "base_uri": "https://localhost:8080/"
        },
        "id": "v0AF7hxBe2ty",
        "outputId": "6e3f765e-b47b-4f64-cf69-826628e828bc"
      },
      "execution_count": 8,
      "outputs": [
        {
          "output_type": "stream",
          "name": "stdout",
          "text": [
            "Inicio Ejemplo 7\n",
            "Fin Ejemplo 7\n"
          ]
        }
      ]
    },
    {
      "cell_type": "code",
      "source": [
        "a=2\n",
        "if a==2:\n",
        "    print(\"a es igual a 2\")\n",
        "else:\n",
        "    # para esta parte no esta claro q poner, con pass ya no hay error\n",
        "    pass"
      ],
      "metadata": {
        "colab": {
          "base_uri": "https://localhost:8080/"
        },
        "id": "P48dbamUedmj",
        "outputId": "7a2ae59c-b78f-4656-b6d6-f1ad0cd555ca"
      },
      "execution_count": 10,
      "outputs": [
        {
          "output_type": "stream",
          "name": "stdout",
          "text": [
            "a es igual a 2\n"
          ]
        }
      ]
    },
    {
      "cell_type": "code",
      "source": [
        "# Excepciones personalizadas\n",
        "class MiError(Exception):\n",
        "    pass\n",
        "\n",
        "raise MiError(\"Mensaje de error\")\n"
      ],
      "metadata": {
        "id": "Q1eecXfiedpt"
      },
      "execution_count": null,
      "outputs": []
    },
    {
      "cell_type": "code",
      "source": [
        "# Ejemplo 8, Tienes un frutero, saca las frutas mientras no sea un gusano y genera una excepción\n",
        "print(\"Inicio Ejemplo 8\")\n",
        "class GusanoError(Exception):\n",
        "    pass\n",
        "\n",
        "frutero = ['🍎', '🍌', '🍐', '🐛', '🍇']\n",
        "for fruta in frutero:\n",
        "    try:\n",
        "        if fruta == '🐛':\n",
        "            raise GusanoError(\"😱 Ewww!\")\n",
        "        print(fruta)\n",
        "    except GusanoError as e:\n",
        "        print(\"🐛 Error:\", e)\n",
        "    except Exception as e:\n",
        "        print(\"💀 Error:\", e)\n",
        "print(\"Fin Ejemplo 8\")"
      ],
      "metadata": {
        "colab": {
          "base_uri": "https://localhost:8080/"
        },
        "id": "pp3sPNchf8Nf",
        "outputId": "bddb5049-75ec-4edd-e5d9-bc1fe8588d5f"
      },
      "execution_count": 11,
      "outputs": [
        {
          "output_type": "stream",
          "name": "stdout",
          "text": [
            "Inicio Ejemplo 8\n",
            "🍎\n",
            "🍌\n",
            "🍐\n",
            "🐛 Error: 😱 Ewww!\n",
            "🍇\n",
            "Fin Ejemplo 8\n"
          ]
        }
      ]
    },
    {
      "cell_type": "code",
      "source": [
        "# Ejercicio 4, Crear un programa que solicite palabras por teclado y almacene en una lista\n",
        "# Si se inserta caracteres no alfabéticos se genera una excepción personalizada y no se almacena\n",
        "# Si se ingresa \"salir\" se termina la ejecución\n",
        "# Mostrar el mensaje \"🎉 Palabra agregada\" si no hay errores\n",
        "# Finalmente imprimir la lista de palabras\n",
        "class NoAlfabeticoError(Exception):\n",
        "    pass\n",
        "\n",
        "palabras = []\n",
        "while True:\n",
        "    try:\n",
        "        palabra = input(\"Ingrese una palabra: \")\n",
        "        if palabra == \"salir\":\n",
        "            break\n",
        "        if not palabra.isalpha():\n",
        "            raise NoAlfabeticoError(\"Solo se permiten letras\")\n",
        "        palabras.append(palabra)\n",
        "    except NoAlfabeticoError as e:\n",
        "        print(\"🚫 Error:\", e)\n",
        "    except Exception as e:\n",
        "        print(\"💀 Error:\", e)\n",
        "    else:\n",
        "        print(\"🎉 Palabra agregada\")\n",
        "    finally:\n",
        "        print(\"Lista:\", palabras)\n",
        ""
      ],
      "metadata": {
        "colab": {
          "base_uri": "https://localhost:8080/"
        },
        "id": "MRVguKkmf8Qg",
        "outputId": "4e0d2077-4e97-4333-c23f-7d33eaeb3fd1"
      },
      "execution_count": 12,
      "outputs": [
        {
          "output_type": "stream",
          "name": "stdout",
          "text": [
            "Ingrese una palabra: hola\n",
            "🎉 Palabra agregada\n",
            "Lista: ['hola']\n",
            "Ingrese una palabra: como estas\n",
            "🚫 Error: Solo se permiten letras\n",
            "Lista: ['hola']\n",
            "Ingrese una palabra: 1\n",
            "🚫 Error: Solo se permiten letras\n",
            "Lista: ['hola']\n",
            "Ingrese una palabra: 2\n",
            "🚫 Error: Solo se permiten letras\n",
            "Lista: ['hola']\n",
            "Ingrese una palabra: hola 1\n",
            "🚫 Error: Solo se permiten letras\n",
            "Lista: ['hola']\n",
            "Ingrese una palabra: simbolos||\n",
            "🚫 Error: Solo se permiten letras\n",
            "Lista: ['hola']\n",
            "Ingrese una palabra: \n",
            "🚫 Error: Solo se permiten letras\n",
            "Lista: ['hola']\n",
            "Ingrese una palabra: salir\n",
            "Lista: ['hola']\n"
          ]
        }
      ]
    }
  ]
}