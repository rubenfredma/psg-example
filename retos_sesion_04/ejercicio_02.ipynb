{
 "cells": [
  {
   "attachments": {},
   "cell_type": "markdown",
   "metadata": {},
   "source": [
    "### Crea un archivo \"ejercicio_02.ipynb\", añade un texto markdown con la descripcion del ejercicio \"2\" y crea uma imagen utilizando simbolos y prints\n",
    "\n",
    "**Simbolos: * - , () \\ | / _ \" ' = C**"
   ]
  },
  {
   "cell_type": "code",
   "execution_count": 11,
   "metadata": {},
   "outputs": [
    {
     "name": "stdout",
     "output_type": "stream",
     "text": [
      "      _   _\n",
      "     (.)  (.)\n",
      "    /   ()   \\ \n",
      "    \\  '__'  /\n",
      "   __|      |__\n",
      "  {'=='''''''=='} \n"
     ]
    }
   ],
   "source": [
    "print(\"      _   _\")\n",
    "print(\"     (.)  (.)\")\n",
    "print(\"    /   ()   \\ \")\n",
    "print(\"    \\  '__'  /\")\n",
    "print(\"   __|      |__\")\n",
    "print(\"  {'=='''''''=='} \") "
   ]
  }
 ],
 "metadata": {
  "kernelspec": {
   "display_name": "Python 3",
   "language": "python",
   "name": "python3"
  },
  "language_info": {
   "codemirror_mode": {
    "name": "ipython",
    "version": 3
   },
   "file_extension": ".py",
   "mimetype": "text/x-python",
   "name": "python",
   "nbconvert_exporter": "python",
   "pygments_lexer": "ipython3",
   "version": "3.11.3"
  },
  "orig_nbformat": 4
 },
 "nbformat": 4,
 "nbformat_minor": 2
}
