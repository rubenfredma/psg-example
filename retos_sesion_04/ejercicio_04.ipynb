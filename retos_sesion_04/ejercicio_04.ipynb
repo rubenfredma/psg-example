{
 "cells": [
  {
   "attachments": {},
   "cell_type": "markdown",
   "metadata": {},
   "source": [
    "## JUEGO: Piedra, papel o tijera\n",
    "Se va a simular el juego: piedra, papel o tijeras. \n",
    "\n",
    "Es un juego muy popular, se utiliza para encontrar soluciones de desicion.\n",
    "\n",
    "Este juego va a utilizar piezas para representar los gestos de la mano que representen los elementos: *piedra, papel o tijera*. "
   ]
  },
  {
   "attachments": {},
   "cell_type": "markdown",
   "metadata": {},
   "source": [
    "### Reglas:\n",
    "\n",
    "1. Se va a jugar con la pc (simulado que es otra persona).\n",
    "\n",
    "2. Va a ver una opcion para seleccionar estas tres opciones:\n",
    "   \n",
    "  - Piedra\n",
    "  - Papel\n",
    "  - Tijera\n",
    "  \n",
    "3. La pc internamente va a seleccionar una opcion.\n",
    "\n",
    "4. Solo existe un resultado final:\n",
    "   \n",
    "  * La piedra gana a las tijeras.\n",
    "  * Las tijeras ganan al papel.\n",
    "  * Y el papel gana a la piedra\n",
    "\n",
    "5. internamente se va a hacer un calculo para ver quien gana con las reglas descritas.\n"
   ]
  },
  {
   "cell_type": "code",
   "execution_count": 32,
   "metadata": {},
   "outputs": [
    {
     "name": "stdout",
     "output_type": "stream",
     "text": [
      "===========   Diseño del tablero  =======\n",
      "\n",
      "        Jugador-1                    Jugador-2\n",
      "  ___________________          __________________\n",
      " |                   |         |                  |\n",
      " |                   |         |                  |\n",
      " |                   |         |                  |\n",
      " |                   |         |                  |\n",
      " |                   |         |                  |\n",
      " |                   |         |                  |\n",
      " |                   |         |                  |\n",
      " |                   |         |                  |\n",
      " |___________________|         |__________________|\n",
      "            \n"
     ]
    }
   ],
   "source": [
    "print(\"===========   Diseño del tablero  =======\")\n",
    "print()\n",
    "print(\"        Jugador-1                    Jugador-2\")\n",
    "print(\"  ___________________          __________________\")\n",
    "print(\" |                   |         |                  |\")\n",
    "print(\" |                   |         |                  |\")\n",
    "print(\" |                   |         |                  |\")\n",
    "print(\" |                   |         |                  |\")\n",
    "print(\" |                   |         |                  |\")\n",
    "print(\" |                   |         |                  |\")\n",
    "print(\" |                   |         |                  |\")\n",
    "print(\" |                   |         |                  |\")\n",
    "print(\" |___________________|         |__________________|\")\n",
    "print(\"            \")\n"
   ]
  },
  {
   "attachments": {},
   "cell_type": "markdown",
   "metadata": {},
   "source": [
    "### Los tres posibles movimientos de la mano son:\n",
    "- Piedra representado por la mano cerrada o un puño.\n",
    "- Papel, representado por la mano extendida.\n",
    "- Tijera, representado por los dedos extendidos de la mano en forma de V."
   ]
  },
  {
   "cell_type": "code",
   "execution_count": 33,
   "metadata": {},
   "outputs": [
    {
     "name": "stdout",
     "output_type": "stream",
     "text": [
      "La piedra, se va a representar como:\n",
      "\n",
      "     __ .--  _     \n",
      "    /    \\  \\ `\\ \n",
      "   _| \\   \\  \\  \\ \\ \n",
      "  (( \\ )   )  ) )  )  \n",
      "   \\  \\/          / \n",
      "    \\            / \n",
      "     )          /\n"
     ]
    }
   ],
   "source": [
    "print(\"La piedra, se va a representar como:\")\n",
    "print(\"\")\n",
    "print(\"     __ .--  _     \")\n",
    "print(\"    /    \\  \\ `\\ \")\n",
    "print(\"   _| \\   \\  \\  \\ \\ \")\n",
    "print(\"  (( \\ )   )  ) )  )  \")\n",
    "print(\"   \\  \\/          / \")\n",
    "print(\"    \\            / \")\n",
    "print(\"     )          /\")"
   ]
  },
  {
   "cell_type": "code",
   "execution_count": 34,
   "metadata": {},
   "outputs": [
    {
     "name": "stdout",
     "output_type": "stream",
     "text": [
      "El papel, se va a representar como:\n",
      "\n",
      "          .--  _     \n",
      "        __|  |  |    \n",
      "       |  |  |  |-,  \n",
      "       |  |  |  | | \n",
      "  (`\\  |  |  |  | |    \n",
      "   \\  \\/          | \n",
      "    \\            | \n",
      "      \\         |\n"
     ]
    }
   ],
   "source": [
    "print(\"El papel, se va a representar como:\")\n",
    "print(\"\")\n",
    "print(\"          .--  _     \")\n",
    "print(\"        __|  |  |    \")\n",
    "print(\"       |  |  |  |-,  \")\n",
    "print(\"       |  |  |  | | \")\n",
    "print(\"  (`\\  |  |  |  | |    \")\n",
    "print(\"   \\  \\/          | \")\n",
    "print(\"    \\            | \")\n",
    "print(\"      \\         |\")"
   ]
  },
  {
   "cell_type": "code",
   "execution_count": 35,
   "metadata": {},
   "outputs": [
    {
     "name": "stdout",
     "output_type": "stream",
     "text": [
      "La tijera, se va a representar como:\n",
      "\n",
      "        .-    .-.     \n",
      "        \\  \\  |  |    \n",
      "         \\  \\ |  |    \n",
      "          \\  \\|  |   \n",
      "        _.-\\    __ \\ \n",
      "      .( \\  \\ (__   |    \n",
      "      \\ \\ \\_.   |  | \n",
      "       \\ \\_.       | \n",
      "         \\        | \n",
      "          \\      | \n"
     ]
    }
   ],
   "source": [
    "print(\"La tijera, se va a representar como:\")\n",
    "print(\"\")\n",
    "print(\"        .-    .-.     \")\n",
    "print(\"        \\  \\  |  |    \")\n",
    "print(\"         \\  \\ |  |    \")\n",
    "print(\"          \\  \\|  |   \")\n",
    "print(\"        _.-\\    __ \\ \")\n",
    "print(\"      .( \\  \\ (__   |    \")\n",
    "print(\"      \\ \\ \\_.   |  | \")\n",
    "print(\"       \\ \\_.       | \")\n",
    "print(\"         \\        | \")\n",
    "print(\"          \\      | \")"
   ]
  }
 ],
 "metadata": {
  "kernelspec": {
   "display_name": "Python 3",
   "language": "python",
   "name": "python3"
  },
  "language_info": {
   "codemirror_mode": {
    "name": "ipython",
    "version": 3
   },
   "file_extension": ".py",
   "mimetype": "text/x-python",
   "name": "python",
   "nbconvert_exporter": "python",
   "pygments_lexer": "ipython3",
   "version": "3.11.3"
  },
  "orig_nbformat": 4
 },
 "nbformat": 4,
 "nbformat_minor": 2
}
