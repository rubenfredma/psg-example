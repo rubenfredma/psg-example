{
  "nbformat": 4,
  "nbformat_minor": 0,
  "metadata": {
    "colab": {
      "provenance": []
    },
    "kernelspec": {
      "name": "python3",
      "display_name": "Python 3"
    },
    "language_info": {
      "name": "python"
    }
  },
  "cells": [
    {
      "cell_type": "markdown",
      "source": [
        "**Funciones Bloques de codigo**"
      ],
      "metadata": {
        "id": "YNO4TtPxKPp-"
      }
    },
    {
      "cell_type": "code",
      "source": [
        "def nombre_funcion():\n",
        "    print (\"Bloque de código\")\n",
        "\n",
        "nombre_funcion()"
      ],
      "metadata": {
        "id": "jGnH8e22KOBG",
        "colab": {
          "base_uri": "https://localhost:8080/"
        },
        "outputId": "d92cfea2-44e0-4101-f1ce-6e1e6c075a94"
      },
      "execution_count": null,
      "outputs": [
        {
          "output_type": "stream",
          "name": "stdout",
          "text": [
            "Bloque de código\n"
          ]
        }
      ]
    },
    {
      "cell_type": "code",
      "source": [
        "# error, llama a alggo que no esta definido\n",
        "nombre_funcion()\n",
        "\n",
        "def nombre_funcion():\n",
        "    print (\"Bloque de código\")\n"
      ],
      "metadata": {
        "colab": {
          "base_uri": "https://localhost:8080/"
        },
        "id": "DA-rM5q8GJ2A",
        "outputId": "be611cf7-681d-4592-b75b-d10f7324ba34"
      },
      "execution_count": null,
      "outputs": [
        {
          "output_type": "stream",
          "name": "stdout",
          "text": [
            "Bloque de código\n"
          ]
        }
      ]
    },
    {
      "cell_type": "code",
      "source": [
        "def nombre_funcion():\n",
        "    print (\"Bloque de código\")\n",
        "\n",
        "nombre_funcion()\n",
        "nombre_funcion()\n",
        "nombre_funcion()\n",
        "nombre_funcion()"
      ],
      "metadata": {
        "colab": {
          "base_uri": "https://localhost:8080/"
        },
        "id": "2QlPSWTEGJ4s",
        "outputId": "7130e1bd-48ef-41bb-fc93-afeed9892baa"
      },
      "execution_count": null,
      "outputs": [
        {
          "output_type": "stream",
          "name": "stdout",
          "text": [
            "Bloque de código\n",
            "Bloque de código\n",
            "Bloque de código\n",
            "Bloque de código\n"
          ]
        }
      ]
    },
    {
      "cell_type": "code",
      "source": [
        "\t# Funcion sinargumento y sin retorno\n",
        "def funcion():\n",
        "    print (\"Bloque de código\")\n",
        "\n",
        "funcion()"
      ],
      "metadata": {
        "colab": {
          "base_uri": "https://localhost:8080/"
        },
        "id": "1piEaA-QGq2t",
        "outputId": "cd193502-e11f-4743-f68f-4243b2166cd1"
      },
      "execution_count": null,
      "outputs": [
        {
          "output_type": "stream",
          "name": "stdout",
          "text": [
            "Bloque de código\n"
          ]
        }
      ]
    },
    {
      "cell_type": "code",
      "source": [
        "# Ejemplo 1, Crear una función para imprimir una lista de 10 números pares\n",
        "# y llamarla dos veces\n",
        "print (\"Ejemplo 1\")\n",
        "print (\"1. Definir función\")\n",
        "def imprimir_pares():\n",
        "    pares = [i for i in range(0, 21, 2)]\n",
        "    print (pares)\n",
        "\n",
        "print (\"2. Llamar función\")\n",
        "imprimir_pares()\n",
        "imprimir_pares()"
      ],
      "metadata": {
        "colab": {
          "base_uri": "https://localhost:8080/"
        },
        "id": "EzNtMJuaGq8T",
        "outputId": "ba94118b-6722-4a4a-b03b-62b127b00109"
      },
      "execution_count": null,
      "outputs": [
        {
          "output_type": "stream",
          "name": "stdout",
          "text": [
            "Ejemplo 1\n",
            "1. Definir función\n",
            "2. Llamar función\n",
            "[0, 2, 4, 6, 8, 10, 12, 14, 16, 18, 20]\n",
            "[0, 2, 4, 6, 8, 10, 12, 14, 16, 18, 20]\n"
          ]
        }
      ]
    },
    {
      "cell_type": "code",
      "source": [
        "# Ejercicio 1, crear una función que imprima un mensaje de bienvenida del\n",
        "# siguiente conjunto de forma aleatoria\n",
        "\n",
        "def mensaje():\n",
        "    mensajes = {\"Bienvenido al Python Study Group 🐍\",\"¡Hola y bienvenido al Python Study Group! ✨\",\"Hola, aprendamos Python juntos 🐍\"}\n",
        "    print(mensajes.pop())\n",
        "\n",
        "mensaje()\n",
        "mensaje()\n"
      ],
      "metadata": {
        "colab": {
          "base_uri": "https://localhost:8080/"
        },
        "id": "rHgQn5ZUGJ7e",
        "outputId": "25a3e5ab-fdf9-4b35-e6ff-6248168c4d18"
      },
      "execution_count": null,
      "outputs": [
        {
          "output_type": "stream",
          "name": "stdout",
          "text": [
            "¡Hola y bienvenido al Python Study Group! ✨\n",
            "¡Hola y bienvenido al Python Study Group! ✨\n"
          ]
        }
      ]
    },
    {
      "cell_type": "code",
      "source": [
        "# Funciones sin argumentos y con un retorno\n",
        "def funcion():\n",
        "    return \"Bloque de código\"\n",
        "\n",
        "resultado = funcion()\n",
        "print (resultado)"
      ],
      "metadata": {
        "colab": {
          "base_uri": "https://localhost:8080/"
        },
        "id": "S0TE9huNGJ92",
        "outputId": "caa3e03d-57ec-4c8f-e378-4a5650e14f8c"
      },
      "execution_count": null,
      "outputs": [
        {
          "output_type": "stream",
          "name": "stdout",
          "text": [
            "Bloque de código\n"
          ]
        }
      ]
    },
    {
      "cell_type": "code",
      "source": [
        "# Ejemplo 2, Crear una función que devuelva un saludo en diferentes idiomas\n",
        "print (\"Ejemplo 2\")\n",
        "print (\"1. Definir función\")\n",
        "def saludo():\n",
        "    saludos = {\"Hola\", \"Hello\", \"Bonjour\", \"Ciao\"}\n",
        "    return saludos.pop()\n",
        "\n",
        "print (\"2. Llamar función\")\n",
        "resultado = saludo()\n",
        "print (resultado)"
      ],
      "metadata": {
        "id": "f_5ryMLXKOD9",
        "colab": {
          "base_uri": "https://localhost:8080/"
        },
        "outputId": "f58a5e21-486e-432c-be49-e6e2a5800a5d"
      },
      "execution_count": null,
      "outputs": [
        {
          "output_type": "stream",
          "name": "stdout",
          "text": [
            "Ejemplo 2\n",
            "1. Definir función\n",
            "2. Llamar función\n",
            "Hello\n"
          ]
        }
      ]
    },
    {
      "cell_type": "code",
      "source": [
        "# Ejercicio 2, Devolver una fruta aleatoria del siguiente conjunto\n",
        "def almacen():\n",
        "    frutas = {'🍅','🍌','🍎','🍇','🍉'}\n",
        "    return frutas.pop()\n",
        "\n",
        "fruta = almacen()\n",
        "print(fruta)\n"
      ],
      "metadata": {
        "colab": {
          "base_uri": "https://localhost:8080/"
        },
        "id": "ro7TrqqtJVVR",
        "outputId": "1916798e-2748-4476-acda-95dd7b71aa3f"
      },
      "execution_count": null,
      "outputs": [
        {
          "output_type": "stream",
          "name": "stdout",
          "text": [
            "🍅\n"
          ]
        }
      ]
    },
    {
      "cell_type": "code",
      "source": [
        "def devolver_fruta():\n",
        "    frutas = {'🍅','🍌','🍎','🍇','🍉'}\n",
        "    return frutas.pop()\n",
        "\n",
        "fruta = devolver_fruta()\n",
        "print (fruta)"
      ],
      "metadata": {
        "colab": {
          "base_uri": "https://localhost:8080/"
        },
        "id": "VtcxQvRXJVX3",
        "outputId": "276b337c-4429-481f-dc3a-0a04e6035f93"
      },
      "execution_count": null,
      "outputs": [
        {
          "output_type": "stream",
          "name": "stdout",
          "text": [
            "🍅\n"
          ]
        }
      ]
    },
    {
      "cell_type": "code",
      "source": [
        "# Funciones sin argumento y con multiples retornos, Devuelve una tupla en Python\n",
        "def funcion():\n",
        "    return \"Bloque\", \"de\", \"código\"\n",
        "\n",
        "resultado = funcion()\n",
        "print (resultado)\n",
        "print(type(resultado))"
      ],
      "metadata": {
        "colab": {
          "base_uri": "https://localhost:8080/"
        },
        "id": "evI8NGQRJVax",
        "outputId": "0a6717cd-0c1e-4c68-d383-56ef066f089f"
      },
      "execution_count": null,
      "outputs": [
        {
          "output_type": "stream",
          "name": "stdout",
          "text": [
            "('Bloque', 'de', 'código')\n",
            "<class 'tuple'>\n"
          ]
        }
      ]
    },
    {
      "cell_type": "code",
      "source": [
        "def funcion():\n",
        "    return \"Bloque\", \"de\", \"código\"\n",
        "\n",
        "x,y,z = funcion()\n",
        "print(x)\n",
        "print(y)\n",
        "print(z)"
      ],
      "metadata": {
        "colab": {
          "base_uri": "https://localhost:8080/"
        },
        "id": "RKBOKjmTK1IF",
        "outputId": "6652bef7-1fed-4aa6-8d2d-93c9ce6719db"
      },
      "execution_count": null,
      "outputs": [
        {
          "output_type": "stream",
          "name": "stdout",
          "text": [
            "Bloque\n",
            "de\n",
            "código\n"
          ]
        }
      ]
    },
    {
      "cell_type": "code",
      "source": [
        "# Ejemplo 3, Crear una función que devuelva un saludo en dos idiomas\n",
        "print (\"Ejemplo 3\")\n",
        "print (\"1. Definir función\")\n",
        "def saludo():\n",
        "    saludos_es = {\"Hola\", \"Holi\", \"Buenos días\"}\n",
        "    saludos_en = {\"Hello\", \"Hi\", \"Good morning\"}\n",
        "    return saludos_es.pop(), saludos_en.pop()\n",
        "\n",
        "print (\"2. Llamar función\")\n",
        "resultado = saludo()\n",
        "print (resultado)"
      ],
      "metadata": {
        "colab": {
          "base_uri": "https://localhost:8080/"
        },
        "id": "oIlm7DYaK1Ku",
        "outputId": "1152175c-2860-49a3-9739-4161924c2b7e"
      },
      "execution_count": null,
      "outputs": [
        {
          "output_type": "stream",
          "name": "stdout",
          "text": [
            "Ejemplo 3\n",
            "1. Definir función\n",
            "2. Llamar función\n",
            "('Hola', 'Hello')\n"
          ]
        }
      ]
    },
    {
      "cell_type": "code",
      "source": [
        "# Ejercicio 3, Devolver una fruta y un color aleatorio de los siguientes conjuntos\n",
        "\n",
        "def devuelve_fruta_color():\n",
        "    frutas = {'🍏​','🍌','🍎','🍇','🍉'}\n",
        "    colores = {'🔴','💧​','💡','⛺','🔵'}\n",
        "    return frutas.pop(), colores.pop()\n",
        "\n",
        "fruta,color =  devuelve_fruta_color()\n",
        "print(f\"FRUTA: {fruta}\")\n",
        "print(f\"COLOR: {color}\")\n"
      ],
      "metadata": {
        "colab": {
          "base_uri": "https://localhost:8080/"
        },
        "id": "NkNAUqprK1Oj",
        "outputId": "8d041104-b144-4d36-9e66-cd39fe7c3fd3"
      },
      "execution_count": null,
      "outputs": [
        {
          "output_type": "stream",
          "name": "stdout",
          "text": [
            "FRUTA: 🍏​\n",
            "COLOR: 💡\n"
          ]
        }
      ]
    },
    {
      "cell_type": "code",
      "source": [
        "def devolver_fruta_color():\n",
        "    frutas = {'🍅','🍌','🍎','🍇','🍉'}\n",
        "    colores = {'🔴','🟠','🟡','🟢','🔵'}\n",
        "    return frutas.pop(), colores.pop()\n",
        "\n",
        "fruta, color = devolver_fruta_color()\n",
        "print (fruta, color)"
      ],
      "metadata": {
        "colab": {
          "base_uri": "https://localhost:8080/"
        },
        "id": "R-D3jhbxRBLB",
        "outputId": "f946bba4-23f7-46f2-99a4-5f104dd18cbf"
      },
      "execution_count": null,
      "outputs": [
        {
          "output_type": "stream",
          "name": "stdout",
          "text": [
            "🍅 🟠\n"
          ]
        }
      ]
    },
    {
      "cell_type": "code",
      "source": [
        "# Funciones con un argumento y sin retorno\n",
        "def funcion(parametro):\n",
        "    print (parametro)\n",
        "\n",
        "funcion(\"Bloque de código\") #1 Argumento"
      ],
      "metadata": {
        "colab": {
          "base_uri": "https://localhost:8080/"
        },
        "id": "nya89NyERBOA",
        "outputId": "87f36d7f-38d7-49da-b9ab-ffd78c6d0875"
      },
      "execution_count": null,
      "outputs": [
        {
          "output_type": "stream",
          "name": "stdout",
          "text": [
            "Bloque de código\n"
          ]
        }
      ]
    },
    {
      "cell_type": "code",
      "source": [
        "# Ejemplo 4, Crear una función que imprima el cuadrado de un número\n",
        "def cuadrado(x):\n",
        "  print(x**2)\n",
        "\n",
        "cuadrado(2)"
      ],
      "metadata": {
        "colab": {
          "base_uri": "https://localhost:8080/"
        },
        "id": "Nfg2uZqrRBQ3",
        "outputId": "5cd97304-fc52-4515-a65c-8c1067294d1d"
      },
      "execution_count": null,
      "outputs": [
        {
          "output_type": "stream",
          "name": "stdout",
          "text": [
            "4\n"
          ]
        }
      ]
    },
    {
      "cell_type": "code",
      "source": [
        "print (\"Ejemplo 4\")\n",
        "print (\"1. Definir función\")\n",
        "def cuadrado(numero):\n",
        "    print (numero**2)\n",
        "\n",
        "print (\"2. Llamar función\")\n",
        "cuadrado(5)\n",
        "cuadrado(10)"
      ],
      "metadata": {
        "colab": {
          "base_uri": "https://localhost:8080/"
        },
        "id": "9AVnqqSXRfpQ",
        "outputId": "4f8d1391-e67e-4514-84c5-483c4a66cf1c"
      },
      "execution_count": null,
      "outputs": [
        {
          "output_type": "stream",
          "name": "stdout",
          "text": [
            "Ejemplo 4\n",
            "1. Definir función\n",
            "2. Llamar función\n",
            "25\n",
            "100\n"
          ]
        }
      ]
    },
    {
      "cell_type": "code",
      "source": [
        "# Ejercicio 4, Crear una función que imprima el mensaje de bienvenida de acuerdo\n",
        "# al un idioma enviado como argumento, si no existe imprimir un mensaje por defecto\n",
        "def mensaje_bienvenida(idioma):\n",
        "    mensajes = {\"es\":\"Bienvenido al Python Study Group 🐍\",\n",
        "                 \"en\": \"Hello and welcome to the Python Study Group! ✨\",}\n",
        "    print(mensajes.get(idioma,\"Mensaje x defecto\"))\n",
        "\n",
        "mensaje_bienvenida(\"es\")\n",
        "mensaje_bienvenida(\"en\")\n",
        "mensaje_bienvenida(\"it\")"
      ],
      "metadata": {
        "colab": {
          "base_uri": "https://localhost:8080/"
        },
        "id": "vQnalcTRRfr2",
        "outputId": "e6d7ec9f-f3af-4662-9639-f2ab60f9204f"
      },
      "execution_count": null,
      "outputs": [
        {
          "output_type": "stream",
          "name": "stdout",
          "text": [
            "Bienvenido al Python Study Group 🐍\n",
            "Hello and welcome to the Python Study Group! ✨\n",
            "Mensaje x defecto\n"
          ]
        }
      ]
    },
    {
      "cell_type": "code",
      "source": [
        "def bienvenida(idioma):\n",
        "    mensajes = {\n",
        "        \"es\":\"Bienvenido al Python Study Group 🐍\",\n",
        "        \"en\": \"Hello and welcome to the Python Study Group! ✨\",\n",
        "    }\n",
        "    print (mensajes.get(idioma, \"¡Hola!\"))\n",
        "\n",
        "bienvenida(\"es\")\n",
        "bienvenida(\"en\")\n",
        "bienvenida(\"fr\")"
      ],
      "metadata": {
        "colab": {
          "base_uri": "https://localhost:8080/"
        },
        "id": "WWij8GD0Rfua",
        "outputId": "672420cd-685f-47b7-f824-a9a65128bf61"
      },
      "execution_count": null,
      "outputs": [
        {
          "output_type": "stream",
          "name": "stdout",
          "text": [
            "Bienvenido al Python Study Group 🐍\n",
            "Hello and welcome to the Python Study Group! ✨\n",
            "¡Hola!\n"
          ]
        }
      ]
    },
    {
      "cell_type": "code",
      "source": [
        "# Funciones con multiples argumentos y sin retorno\n",
        "\n",
        "def funcion(param1, param2,paramN):\n",
        "    print (param1, param2,paramN)\n",
        "\n",
        "funcion(\"Bloque\", \"de\", \"código\")\n"
      ],
      "metadata": {
        "colab": {
          "base_uri": "https://localhost:8080/"
        },
        "id": "w6kfxqSzko9n",
        "outputId": "01ac6e7f-cc9c-4e07-f4b0-d36f7a15be74"
      },
      "execution_count": null,
      "outputs": [
        {
          "output_type": "stream",
          "name": "stdout",
          "text": [
            "Bloque de código\n"
          ]
        }
      ]
    },
    {
      "cell_type": "code",
      "source": [
        "# Ejemplo 5, Crear una función que reciba una cadena y un entero\n",
        "# y repita la cadena el número de veces\n",
        "print (\"Ejemplo 5\")\n",
        "print (\"1. Definir función\")\n",
        "def repetir(cadena, veces):\n",
        "    print (cadena*veces)\n",
        "\n",
        "print (\"2. Llamar función\")\n",
        "repetir(\"🍩🎉\", 10)"
      ],
      "metadata": {
        "colab": {
          "base_uri": "https://localhost:8080/"
        },
        "id": "QNslk50-kpAn",
        "outputId": "53875cc9-b64d-4a35-c149-91d47916d827"
      },
      "execution_count": null,
      "outputs": [
        {
          "output_type": "stream",
          "name": "stdout",
          "text": [
            "Ejemplo 5\n",
            "1. Definir función\n",
            "2. Llamar función\n",
            "🍩🎉🍩🎉🍩🎉🍩🎉🍩🎉🍩🎉🍩🎉🍩🎉🍩🎉🍩🎉\n"
          ]
        }
      ]
    },
    {
      "cell_type": "code",
      "source": [
        "# Ejercicio 5, Crear una función que reciba una lista de animales, un entero\n",
        "# e imprima una lista con los animales repetidos el número de veces\n",
        "def repetir(lista, nro):\n",
        "    lista2=[]\n",
        "    for i in lista:\n",
        "      lista2.append(i*nro)\n",
        "    print(lista2)\n",
        "\n",
        "animales = ['🐶','🐦','🐭','🐧','🐵']\n",
        "repetir(animales,5)\n"
      ],
      "metadata": {
        "colab": {
          "base_uri": "https://localhost:8080/"
        },
        "id": "QnErV897kpD1",
        "outputId": "bbba1a10-d8cf-4d29-da51-fa99128eca06"
      },
      "execution_count": null,
      "outputs": [
        {
          "output_type": "stream",
          "name": "stdout",
          "text": [
            "['🐶🐶🐶🐶🐶', '🐦🐦🐦🐦🐦', '🐭🐭🐭🐭🐭', '🐧🐧🐧🐧🐧', '🐵🐵🐵🐵🐵']\n"
          ]
        }
      ]
    },
    {
      "cell_type": "code",
      "source": [
        "def repetir_animales(animales,veces):\n",
        "    lista = [animal*veces for animal in animales]\n",
        "    print (lista)\n",
        "\n",
        "animales = ['🐶','🐱','🐭','🐹','🐰']\n",
        "repetir_animales(animales,3)\n",
        "\n"
      ],
      "metadata": {
        "colab": {
          "base_uri": "https://localhost:8080/"
        },
        "id": "nzzWabSnkpHF",
        "outputId": "8d8a4557-88a7-49b7-f4fd-ef2d4dd0a52c"
      },
      "execution_count": null,
      "outputs": [
        {
          "output_type": "stream",
          "name": "stdout",
          "text": [
            "['🐶🐶🐶', '🐱🐱🐱', '🐭🐭🐭', '🐹🐹🐹', '🐰🐰🐰']\n"
          ]
        }
      ]
    },
    {
      "cell_type": "code",
      "source": [
        "# Funciones con multiples argumentos y con un retorno\n",
        "def funcion(param1, param2, paramN):\n",
        "    return param2\n",
        "\n",
        "resultado = funcion(\"Bloque\", \"de\", \"código\")\n",
        "print (resultado)\n"
      ],
      "metadata": {
        "colab": {
          "base_uri": "https://localhost:8080/"
        },
        "id": "FydLs2ptoNK-",
        "outputId": "53481c74-ead3-4034-9693-ba2f5d04f341"
      },
      "execution_count": null,
      "outputs": [
        {
          "output_type": "stream",
          "name": "stdout",
          "text": [
            "de\n"
          ]
        }
      ]
    },
    {
      "cell_type": "code",
      "source": [
        "# Ejemplo 6, Crear una función que reciba dos números y devuelva una lista\n",
        "# con la suma, resta, multiplicación y división de los números\n",
        "print (\"Ejemplo 6\")\n",
        "print (\"1. Definir función\")\n",
        "def operaciones(numero1, numero2):\n",
        "    suma = numero1 + numero2\n",
        "    resta = numero1 - numero2\n",
        "    multiplicacion = numero1 * numero2\n",
        "    division = numero1 / numero2\n",
        "    return [suma, resta, multiplicacion, division]\n",
        "\n",
        "print (\"2. Llamar función\")\n",
        "resultado = operaciones(10, 5)\n",
        "print (resultado)"
      ],
      "metadata": {
        "colab": {
          "base_uri": "https://localhost:8080/"
        },
        "id": "fpmCxt9yoNNm",
        "outputId": "62b486d8-daac-4de3-a8cf-7d9cadb44d71"
      },
      "execution_count": null,
      "outputs": [
        {
          "output_type": "stream",
          "name": "stdout",
          "text": [
            "Ejemplo 6\n",
            "1. Definir función\n",
            "2. Llamar función\n",
            "[15, 5, 50, 2.0]\n"
          ]
        }
      ]
    },
    {
      "cell_type": "code",
      "source": [
        "# Ejercicio 6, Crear una función que reciba dos enteros y una cadena\n",
        "# devolver el resultado de la operación de los números según la cadena puede ser\n",
        "# suma, resta, multiplicación o división\n",
        "def calculo(n1,n2,operacion):\n",
        "  resultado=0\n",
        "  if operacion == \"suma\":\n",
        "    resultado = n1+n2\n",
        "  elif operacion == \"resta\":\n",
        "    resultado = n1-n2\n",
        "  elif operacion == \"multiplicacion\":\n",
        "    resultado = n1*n2\n",
        "  elif operacion == \"division\":\n",
        "    resultado = n1/n2\n",
        "  else:\n",
        "    resultado=\"Operacion no permitida\"\n",
        "  return resultado\n",
        "\n",
        "op = calculo(10,5,\"sua\")\n",
        "print(op)\n"
      ],
      "metadata": {
        "colab": {
          "base_uri": "https://localhost:8080/"
        },
        "id": "YgHLehy5oNQZ",
        "outputId": "14664cf5-e862-4ad6-cace-6a9010d85e82"
      },
      "execution_count": null,
      "outputs": [
        {
          "output_type": "stream",
          "name": "stdout",
          "text": [
            "Operacion no permitida\n"
          ]
        }
      ]
    },
    {
      "cell_type": "code",
      "source": [
        "def operacion(numero1, numero2, operacion):\n",
        "    if operacion == \"suma\":\n",
        "        return numero1 + numero2\n",
        "    elif operacion == \"resta\":\n",
        "        return numero1 - numero2\n",
        "    elif operacion == \"multiplicacion\":\n",
        "        return numero1 * numero2\n",
        "    elif operacion == \"division\":\n",
        "        return numero1 / numero2\n",
        "    else:\n",
        "        return \"Operación no válida\"\n",
        "\n",
        "resultado = operacion(10, 5, \"suma\")\n",
        "print (resultado)"
      ],
      "metadata": {
        "colab": {
          "base_uri": "https://localhost:8080/"
        },
        "id": "0vK6InVEyUFy",
        "outputId": "a8d95df9-add8-4c90-fd7a-8cdcc7d3a165"
      },
      "execution_count": null,
      "outputs": [
        {
          "output_type": "stream",
          "name": "stdout",
          "text": [
            "15\n"
          ]
        }
      ]
    },
    {
      "cell_type": "code",
      "source": [
        "# Funciones con multiples argumentos y con multiples retornos\n",
        "def funcion(param1, param2,paramN):\n",
        "    return paramN, param2,param1  # retornando como tupla\n",
        "\n",
        "resultado = funcion(\"Bloque\", \"de\", \"código\")\n",
        "print (resultado)"
      ],
      "metadata": {
        "colab": {
          "base_uri": "https://localhost:8080/"
        },
        "id": "PQPmhiEzyUJL",
        "outputId": "7290641f-a6f8-4711-b490-402dff4855a0"
      },
      "execution_count": null,
      "outputs": [
        {
          "output_type": "stream",
          "name": "stdout",
          "text": [
            "('código', 'de', 'Bloque')\n"
          ]
        }
      ]
    },
    {
      "cell_type": "code",
      "source": [
        "# Ejemplo 7, Crear una función que reciba dos números y devuelva la suma, resta,\n",
        "# multiplicación y división de los dos números\n",
        "\n",
        "print (\"Ejemplo 7\")\n",
        "print (\"1. Definir función\")\n",
        "def operaciones(numero1,numero2):\n",
        "    suma = numero1 + numero2\n",
        "    resta = numero1 - numero2\n",
        "    multiplicacion = numero1 * numero2\n",
        "    division = numero1 / numero2\n",
        "    return suma, resta, multiplicacion, division\n",
        "\n",
        "print (\"2. Llamar función\")\n",
        "# desempaquetando la salida de la funcion\n",
        "suma,resta,multiplicacion,division = operaciones(10,5)\n",
        "print(suma,resta,multiplicacion,division)\n"
      ],
      "metadata": {
        "colab": {
          "base_uri": "https://localhost:8080/"
        },
        "id": "cY8VsNtnyULo",
        "outputId": "7b0b91a7-6c92-431b-a898-314a9ea2c085"
      },
      "execution_count": null,
      "outputs": [
        {
          "output_type": "stream",
          "name": "stdout",
          "text": [
            "Ejemplo 7\n",
            "1. Definir función\n",
            "2. Llamar función\n",
            "15 5 50 2.0\n"
          ]
        }
      ]
    },
    {
      "cell_type": "code",
      "source": [
        "# Ejercicio 7, Crear una juego de piedra papel o tijera, donde reciba dos jugadas por teclado\n",
        "# y devuelva las jugadas y el resultado, si ingresa salir terminar el juego\n",
        "\n",
        "def obtener_jugada(jugador):\n",
        "    while True:\n",
        "        jugada = input(f\"Jugador {jugador}, ingresa tu jugada (piedra, papel, tijera) o 'salir' para termnar: \").lower()\n",
        "        if jugada in [\"piedra\",\"papel\",\"tijera\",\"salir\"]:\n",
        "            return jugada\n",
        "        else:\n",
        "            print(\"Entrada no valida. Intentalo de nuevo\")\n",
        "\n",
        "def determinar_ganador(jugada1, jugada2):\n",
        "    if jugada1 == jugada2:\n",
        "        return \"Empate\"\n",
        "    elif (jugada1 == \"piedra\" and jugada2 == \"tijera\") or \\\n",
        "         (jugada1 == \"papel\" and jugada2 == \"piedra\") or \\\n",
        "         (jugada1 == \"tijera\" and jugada2 == \"papel\"):\n",
        "         return \"Jugador 1 gana\"\n",
        "    else:\n",
        "        return \"Jugador 2 gana\"\n",
        "\n",
        "def jugar():\n",
        "    while True:\n",
        "        jugada1 = obtener_jugada(1)\n",
        "        if jugada1 == \"salir\":\n",
        "            print(\"Juego terminado\")\n",
        "            break\n",
        "        jugada2 = obtener_jugada(2)\n",
        "        if jugada2 == \"salir\":\n",
        "            print(\"Juego terminado\")\n",
        "            break\n",
        "\n",
        "        print(f\"Jugador 1 jugo: {jugada1}\")\n",
        "        print(f\"Jugador 2 jugo: {jugada2}\")\n",
        "\n",
        "        resultado = determinar_ganador(jugada1, jugada2)\n",
        "        print(resultado)\n",
        "\n",
        "# inicia el juego\n",
        "jugar()\n"
      ],
      "metadata": {
        "colab": {
          "base_uri": "https://localhost:8080/"
        },
        "id": "HmOWDlUezGPB",
        "outputId": "ccdb8535-6f19-4cd5-9129-5c852135ed00"
      },
      "execution_count": null,
      "outputs": [
        {
          "output_type": "stream",
          "name": "stdout",
          "text": [
            "Jugador 1, ingresa tu jugada (piedra, papel, tijera) o 'salir' para termnar: PIEDRA\n",
            "Jugador 2, ingresa tu jugada (piedra, papel, tijera) o 'salir' para termnar: piedra\n",
            "Jugador 1 jugo: piedra\n",
            "Jugador 2 jugo: piedra\n",
            "Empate\n",
            "Jugador 1, ingresa tu jugada (piedra, papel, tijera) o 'salir' para termnar: papel\n",
            "Jugador 2, ingresa tu jugada (piedra, papel, tijera) o 'salir' para termnar: tijera\n",
            "Jugador 1 jugo: papel\n",
            "Jugador 2 jugo: tijera\n",
            "Jugador 2 gana\n",
            "Jugador 1, ingresa tu jugada (piedra, papel, tijera) o 'salir' para termnar: salir\n",
            "Juego terminado\n"
          ]
        }
      ]
    },
    {
      "cell_type": "code",
      "source": [
        "def jugar_piedra_papel_tijera(jugada1, jugada2):\n",
        "    if jugada1 == jugada2:\n",
        "        resultado = \"Empate\"\n",
        "    elif jugada1 == \"piedra\" and jugada2 == \"tijera\":\n",
        "        resultado = \"Jugador 1 gana\"\n",
        "    elif jugada1 == \"papel\" and jugada2 == \"piedra\":\n",
        "        resultado = \"Jugador 1 gana\"\n",
        "    elif jugada1 == \"tijera\" and jugada2 == \"papel\":\n",
        "        resultado = \"Jugador 1 gana\"\n",
        "    else:\n",
        "        resultado = \"Jugador 2 gana\"\n",
        "    return jugada1, jugada2, resultado\n",
        "\n",
        "while True:\n",
        "    jugador1 = input(\"Jugador 1: \")\n",
        "    if jugador1 == \"salir\":\n",
        "        break\n",
        "    jugador2 = input(\"Jugador 2: \")\n",
        "    if jugador2 == \"salir\":\n",
        "        break\n",
        "    resultado = jugar_piedra_papel_tijera(jugador1, jugador2)\n",
        "    print (resultado)"
      ],
      "metadata": {
        "colab": {
          "base_uri": "https://localhost:8080/"
        },
        "id": "zQUW_QU8zGRk",
        "outputId": "4df35cfc-99d8-466e-b002-dd0ff180955a"
      },
      "execution_count": null,
      "outputs": [
        {
          "name": "stdout",
          "output_type": "stream",
          "text": [
            "Jugador 1: roca\n",
            "Jugador 2: papel\n",
            "('roca', 'papel', 'Jugador 2 gana')\n",
            "Jugador 1: salir\n"
          ]
        }
      ]
    },
    {
      "cell_type": "code",
      "source": [
        "# Variables globales y locales\n",
        "\n",
        "variable_global = \"Variable global\"\n",
        "\n",
        "def funcion():\n",
        "    variable_local = \"Variable local\"\n",
        "    print (\"✨\",variable_global)\n",
        "    print (\"✨\",variable_local)\n",
        "\n",
        "funcion()\n",
        "print (\"🎈\",variable_global)\n",
        "#print (\"🎈\",variable_local)  #ERRROR"
      ],
      "metadata": {
        "id": "4V7RcgtozGUQ",
        "colab": {
          "base_uri": "https://localhost:8080/"
        },
        "outputId": "7005c013-8996-43db-a196-3bb2059a20d8"
      },
      "execution_count": null,
      "outputs": [
        {
          "output_type": "stream",
          "name": "stdout",
          "text": [
            "✨ Variable global\n",
            "✨ Variable local\n",
            "🎈 Variable global\n"
          ]
        }
      ]
    },
    {
      "cell_type": "code",
      "source": [
        "# prioridad\n",
        "variable = \"Variable global\"\n",
        "print ('0.',variable)\n",
        "\n",
        "def funcion():\n",
        "    variable = \"Variable local\"  # mayor prioridad\n",
        "    print ('1.',variable)\n",
        "\n",
        "funcion()\n",
        "print ('2.',variable)"
      ],
      "metadata": {
        "colab": {
          "base_uri": "https://localhost:8080/"
        },
        "id": "C3JdGj6GRmXM",
        "outputId": "6c27d6fd-a7bf-438e-87fc-94a63a80128c"
      },
      "execution_count": null,
      "outputs": [
        {
          "output_type": "stream",
          "name": "stdout",
          "text": [
            "0. Variable global\n",
            "1. Variable local\n",
            "2. Variable global\n"
          ]
        }
      ]
    },
    {
      "cell_type": "code",
      "source": [
        "# Ejemplo 8, De la siguiente lista de números obtener el mayor y menor número con una función\n",
        "numeros = [10, 5, 20, 15, 25, 30] #Global\n",
        "\n",
        "def mayor_menor(): #No recibe argumentos\n",
        "    mayor = max(numeros) #Local\n",
        "    menor = min(numeros) #Local\n",
        "    return mayor, menor #Devuelve dos valores\n",
        "\n",
        "resultado = mayor_menor()\n",
        "print (resultado)"
      ],
      "metadata": {
        "colab": {
          "base_uri": "https://localhost:8080/"
        },
        "id": "WipDSK6LRmZ7",
        "outputId": "c1c584b1-66f6-42ca-825c-135a1028267a"
      },
      "execution_count": null,
      "outputs": [
        {
          "output_type": "stream",
          "name": "stdout",
          "text": [
            "(30, 5)\n"
          ]
        }
      ]
    },
    {
      "cell_type": "code",
      "source": [
        "# Ejercicio 8, De la siguiente cadena global convertir en formato título\n",
        "# y contar las vocales aeiou con una función\n",
        "\n",
        "cadena = \"python es un lenguaje de programación\"\n",
        "def form_titulo(cadena):\n",
        "    return cadena.title()\n",
        "\n",
        "def contar_vocales(cadena):\n",
        "    cont=0\n",
        "    for i in cadena:\n",
        "        if i in 'aeiou':\n",
        "          cont +=1\n",
        "\n",
        "    return cont\n",
        "\n",
        "print(form_titulo(cadena))\n",
        "cantidad = contar_vocales(cadena)\n",
        "print(f\"La cadena tiene {cantidad} vocales\")"
      ],
      "metadata": {
        "colab": {
          "base_uri": "https://localhost:8080/"
        },
        "id": "E5ipqPLeRmcf",
        "outputId": "26db6dbd-13a5-4031-9997-29cf87158556"
      },
      "execution_count": null,
      "outputs": [
        {
          "output_type": "stream",
          "name": "stdout",
          "text": [
            "Python Es Un Lenguaje De Programación\n",
            "La cadena tiene 12 vocales\n"
          ]
        }
      ]
    },
    {
      "cell_type": "code",
      "source": [
        "def formato_vocales():\n",
        "    titulo = cadena.title()\n",
        "    vocales = sum([1 for letra in titulo if letra in \"aeiouáéíóúAEIOUÁÉÍÓÚ\"])\n",
        "    return titulo, vocales\n",
        "\n",
        "cadena = \"python es un lenguaje de programación\"\n",
        "resultado = formato_vocales()\n",
        "\n",
        "print (resultado)"
      ],
      "metadata": {
        "colab": {
          "base_uri": "https://localhost:8080/"
        },
        "id": "NXGz0WjURmfD",
        "outputId": "683340d5-e18e-4b96-d0ea-977bae546a45"
      },
      "execution_count": null,
      "outputs": [
        {
          "output_type": "stream",
          "name": "stdout",
          "text": [
            "('Python Es Un Lenguaje De Programación', 13)\n"
          ]
        }
      ]
    },
    {
      "cell_type": "code",
      "source": [
        "#   *args es una lista de parámetros sin clave\n",
        "#   **kwargs es un diccionario de parámetros con clave\n",
        "#   para enviar cualquier cantidad de variables\n",
        "def funcion(*args):\n",
        "    print (args)\n",
        "    print (type(args))\n",
        "\n",
        "funcion(\"Bloque\", \"de\", \"código\")"
      ],
      "metadata": {
        "colab": {
          "base_uri": "https://localhost:8080/"
        },
        "id": "jKMltf1KRmha",
        "outputId": "8e69c1a3-6d79-4ba9-b0e2-a0195539f4aa"
      },
      "execution_count": null,
      "outputs": [
        {
          "output_type": "stream",
          "name": "stdout",
          "text": [
            "('Bloque', 'de', 'código')\n",
            "<class 'tuple'>\n"
          ]
        }
      ]
    },
    {
      "cell_type": "code",
      "source": [
        "# Ejemplo 9 Crear una función que reciba un número y una cantidad de cadenas,\n",
        "# concatene las cadenas y la devuelva repetida N veces\n",
        "print (\"Ejemplo 9\")\n",
        "print (\"1. Definir función\")\n",
        "def concatenar(numero, *cadenas):\n",
        "    concatenado = \"\"\n",
        "    for cadena in cadenas:\n",
        "        concatenado += cadena\n",
        "    return concatenado*numero\n",
        "\n",
        "print (\"2. Llamar función\")\n",
        "resultado = concatenar(3, \"🍎\", \"🍌\", \"🍍\")\n",
        "print (resultado)"
      ],
      "metadata": {
        "colab": {
          "base_uri": "https://localhost:8080/"
        },
        "id": "yIgU-AunRmky",
        "outputId": "dc2d49f8-668b-4c87-c57a-07ab607ebce8"
      },
      "execution_count": null,
      "outputs": [
        {
          "output_type": "stream",
          "name": "stdout",
          "text": [
            "Ejemplo 9\n",
            "1. Definir función\n",
            "2. Llamar función\n",
            "🍎🍌🍍🍎🍌🍍🍎🍌🍍\n"
          ]
        }
      ]
    },
    {
      "cell_type": "code",
      "source": [
        "# Ejercicio 9, Crear una función que reciba N objetos y genere una tupla\n",
        "# y una lista con los objetos usando *args\n",
        "def tupla_lista(*args):\n",
        "    tupla = tuple(args)\n",
        "    lista = list(args)\n",
        "    return tupla, lista\n",
        "\n",
        "lista, tupla = tupla_lista(1, 1.1, True, \"🍎\")\n",
        "\n",
        "print (lista)\n",
        "print (tupla)"
      ],
      "metadata": {
        "colab": {
          "base_uri": "https://localhost:8080/"
        },
        "id": "L6jXhhZlrAay",
        "outputId": "43f8285a-e24b-4cff-fad8-3e11aa5bd8d0"
      },
      "execution_count": null,
      "outputs": [
        {
          "output_type": "stream",
          "name": "stdout",
          "text": [
            "(1, 1.1, True, '🍎')\n",
            "[1, 1.1, True, '🍎']\n"
          ]
        }
      ]
    },
    {
      "cell_type": "code",
      "source": [
        "def generar_tupla_lista(*args):\n",
        "    return tuple(args), list(args)\n",
        "\n",
        "tupla, lista = generar_tupla_lista(1, 1.1, True, \"⚽\")\n",
        "print(\"Tupla\",tupla)\n",
        "print(\"Lista:\",lista)"
      ],
      "metadata": {
        "colab": {
          "base_uri": "https://localhost:8080/"
        },
        "id": "ed6vcsYgrAdq",
        "outputId": "5cfb7226-72fa-4fe6-fd18-22252e408dc8"
      },
      "execution_count": null,
      "outputs": [
        {
          "output_type": "stream",
          "name": "stdout",
          "text": [
            "Tupla (1, 1.1, True, '⚽')\n",
            "Lista: [1, 1.1, True, '⚽']\n"
          ]
        }
      ]
    },
    {
      "cell_type": "code",
      "source": [
        "# KWARGS  uso como diccioanrio\n",
        "\n",
        "def funcion(**kwargs):\n",
        "    print (kwargs)\n",
        "    print (type(kwargs))\n",
        "\n",
        "funcion(nombre=\"Jhon\", apellido=\"Doe\", genero=\"M\")\n",
        "\n"
      ],
      "metadata": {
        "colab": {
          "base_uri": "https://localhost:8080/"
        },
        "id": "EcPTZNqgrAgL",
        "outputId": "c5f21eda-423f-4002-9c3f-90ec75cd2dc5"
      },
      "execution_count": null,
      "outputs": [
        {
          "output_type": "stream",
          "name": "stdout",
          "text": [
            "{'nombre': 'Jhon', 'apellido': 'Doe', 'genero': 'M'}\n",
            "<class 'dict'>\n"
          ]
        }
      ]
    },
    {
      "cell_type": "code",
      "source": [
        "# Ejemplo 10, Crear una función que reciba los datos de una persona y devuelva\n",
        "# un mensaje con los datos\n",
        "print (\"Ejemplo 10\")\n",
        "print (\"1. Definir función\")\n",
        "def datos_persona(**datos):\n",
        "    mensaje = \"\"\n",
        "    for clave, valor in datos.items():\n",
        "        mensaje += f\"{str(clave).title()}: {str(valor).upper()}\\n\"\n",
        "    return mensaje\n",
        "print (\"2. Llamar función\")\n",
        "resultado = datos_persona(nombre=\"Jhon\", apellido=\"Doe\", edad=20, boliviano=True)\n",
        "print (resultado)"
      ],
      "metadata": {
        "colab": {
          "base_uri": "https://localhost:8080/"
        },
        "id": "W7EKrcuftzuU",
        "outputId": "dde766d4-cc21-4721-b3d4-eb0fd0852ce4"
      },
      "execution_count": null,
      "outputs": [
        {
          "output_type": "stream",
          "name": "stdout",
          "text": [
            "Ejemplo 10\n",
            "1. Definir función\n",
            "2. Llamar función\n",
            "Nombre: JHON\n",
            "Apellido: DOE\n",
            "Edad: 20\n",
            "Boliviano: TRUE\n",
            "\n"
          ]
        }
      ]
    },
    {
      "cell_type": "code",
      "source": [
        "# Ejercicio 10, Crea un simulador de lavar platos con una función que reciba los objetos\n",
        "# a lavar y el tiempo de lavado de cada objeto devuelva un mensaje con los objetos\n",
        "# lavados y el tiempo total de lavado\n",
        "def lavar(**objetos):\n",
        "    tiempo_total = 0\n",
        "    mensaje = \"\"\n",
        "    for objeto, tiempo in objetos.items():\n",
        "        tiempo_total += tiempo\n",
        "        mensaje += f\"{objeto}: {tiempo} minutos\\n\"\n",
        "    mensaje += f\"Tiempo total: {tiempo_total} minutos\"\n",
        "    return mensaje\n",
        "\n",
        "resultado = lavar(plato=5, vaso=3, tenedor=1, cuchara=0.5)\n",
        "print (resultado)"
      ],
      "metadata": {
        "colab": {
          "base_uri": "https://localhost:8080/"
        },
        "id": "FQNDX-JItzx2",
        "outputId": "ef8464e8-2af5-4b25-9b5d-d2a9d88f5faf"
      },
      "execution_count": null,
      "outputs": [
        {
          "output_type": "stream",
          "name": "stdout",
          "text": [
            "plato: 5 minutos\n",
            "vaso: 3 minutos\n",
            "tenedor: 1 minutos\n",
            "cuchara: 0.5 minutos\n",
            "Tiempo total: 9.5 minutos\n"
          ]
        }
      ]
    },
    {
      "cell_type": "code",
      "source": [
        "# enviando directamente el objeto diccionario\n",
        "def lavar_platos(objetos):\n",
        "    tiempo_total = sum(objetos.values())\n",
        "    return f\"Objetos lavados: {', '.join(objetos.keys())}. tiempo total: {tiempo_total}\"\n",
        "\n",
        "objetos = {\n",
        "    \"plato\":5,\n",
        "    \"vaso\":3,\n",
        "    \"tenedor\":1,\n",
        "    \"cuchara\":0.5\n",
        "}\n",
        "resultado = lavar(plato=5, vaso=3, tenedor=1, cuchara=0.5)\n",
        "print (lavar_platos(objetos))"
      ],
      "metadata": {
        "colab": {
          "base_uri": "https://localhost:8080/"
        },
        "id": "YAmVwTOSvQRw",
        "outputId": "9a0fe9a1-c63d-4900-9995-1ba14201850c"
      },
      "execution_count": null,
      "outputs": [
        {
          "output_type": "stream",
          "name": "stdout",
          "text": [
            "Objetos lavados: plato, vaso, tenedor, cuchara. tiempo total: 9.5\n"
          ]
        }
      ]
    },
    {
      "cell_type": "code",
      "source": [
        "# Documentacion de funciones\n",
        "# se puede doc una fun con comentario de varias lineas\n",
        "# Se accede con la funcion .__doc__\n",
        "print (\"Acceso a la documentación\")\n",
        "def funcion():\n",
        "    \"\"\"\n",
        "    Documentación aquí\n",
        "    \"\"\"\n",
        "    print (\"Bloque de código\")\n",
        "print (funcion.__doc__)\n",
        "print (\"Fin de la ejecución\")\n"
      ],
      "metadata": {
        "colab": {
          "base_uri": "https://localhost:8080/"
        },
        "id": "YTf8eY7avQU4",
        "outputId": "ee269c04-ab7b-485d-a759-0ab903cea27f"
      },
      "execution_count": null,
      "outputs": [
        {
          "output_type": "stream",
          "name": "stdout",
          "text": [
            "Acceso a la documentación\n",
            "\n",
            "    Documentación aquí\n",
            "    \n",
            "Fin de la ejecución\n"
          ]
        }
      ]
    },
    {
      "cell_type": "code",
      "source": [
        "# Llamado de funciones dentro de funciones"
      ],
      "metadata": {
        "id": "TKlJxWX-vQYh"
      },
      "execution_count": null,
      "outputs": []
    },
    {
      "cell_type": "code",
      "source": [
        "# Ejemplo 11, Crear tres funciones una principal que reciba un número y dos funciones anidadas\n",
        "# que devuelvan el cuadrado y el cubo del número\n",
        "print (\"Ejemplo 11\")\n",
        "print (\"1. Definir función Principal\")\n",
        "def principal(numero):\n",
        "    cuadrado = cuadrado_numero(numero)\n",
        "    cubo = cubo_numero(numero)\n",
        "    return cuadrado, cubo\n",
        "\n",
        "print (\"2. Definir función Cuadrado\")\n",
        "def cuadrado_numero(numero):\n",
        "    return numero**2\n",
        "\n",
        "print (\"3. Definir función Cubo\")\n",
        "def cubo_numero(numero):\n",
        "    return numero**3\n",
        "\n",
        "print (\"4. Llamar función Principal\")\n",
        "numero = 5\n",
        "resultado = principal(numero)\n",
        "print (numero, resultado)"
      ],
      "metadata": {
        "id": "KjskcRLpufez",
        "colab": {
          "base_uri": "https://localhost:8080/"
        },
        "outputId": "787e18fe-8c0e-4e4d-827e-6a4b4a2ee55b"
      },
      "execution_count": null,
      "outputs": [
        {
          "output_type": "stream",
          "name": "stdout",
          "text": [
            "Ejemplo 11\n",
            "1. Definir función Principal\n",
            "2. Definir función Cuadrado\n",
            "3. Definir función Cubo\n",
            "4. Llamar función Principal\n",
            "5 (25, 125)\n"
          ]
        }
      ]
    },
    {
      "cell_type": "code",
      "source": [
        "# Ejercicio 11, Crear funciones de limpieza de una cadena para obtener las letras\n",
        "# y convertir todo en mayúsculas crea funciones de limpieza y función una principal\n",
        "# cadena = \"Python es un lenguaje de programación 🎈. Feliz Aprendizaje el 2024\"\n",
        "def limpiar_letras(cadena):\n",
        "    \"\"\"\n",
        "    Elimina los números de una cadena y espacios\n",
        "    \"\"\"\n",
        "    return \"\".join([letra for letra in cadena if letra.isalpha()])\n",
        "def limpiar_mayusculas(cadena):\n",
        "    \"\"\"\n",
        "    Convierte una cadena en mayúsculas\n",
        "    \"\"\"\n",
        "    return cadena.upper()\n",
        "\n",
        "def limpiar(cadena):\n",
        "    cadena = limpiar_letras(cadena)\n",
        "    cadena = limpiar_mayusculas(cadena)\n",
        "    return cadena\n",
        "\n",
        "cadena = \"Python es un lenguaje de programación 🎈. Feliz Aprendizaje el 2024\"\n",
        "resultado = limpiar(cadena)\n",
        "print (cadena)\n",
        "print (resultado)\n"
      ],
      "metadata": {
        "id": "DHALJEjqufk1",
        "colab": {
          "base_uri": "https://localhost:8080/"
        },
        "outputId": "e9f37513-565a-4926-cb8a-606cb2ec65b3"
      },
      "execution_count": null,
      "outputs": [
        {
          "output_type": "stream",
          "name": "stdout",
          "text": [
            "Python es un lenguaje de programación 🎈. Feliz Aprendizaje el 2024\n",
            "PYTHONESUNLENGUAJEDEPROGRAMACIÓNFELIZAPRENDIZAJEEL\n"
          ]
        }
      ]
    },
    {
      "cell_type": "code",
      "source": [
        "# Funciones recursivas\n",
        "# funcion que se llama a si misma"
      ],
      "metadata": {
        "id": "wKz0igOMufoK"
      },
      "execution_count": null,
      "outputs": []
    },
    {
      "cell_type": "code",
      "source": [
        "# Ejemplo 12, Crear una función recursiva para obtener el 10cimo número par\n",
        "print (\"Ejemplo 12\")\n",
        "print (\"1. Definir función\")\n",
        "def numero_par(numero):\n",
        "    if numero == 0:\n",
        "        return 0\n",
        "    else:\n",
        "        return numero_par(numero-1) + 2\n",
        "\n",
        "print (\"2. Llamar función\")\n",
        "resultado = numero_par(10)\n",
        "print (resultado)"
      ],
      "metadata": {
        "id": "nUReKlE0tz0u",
        "colab": {
          "base_uri": "https://localhost:8080/"
        },
        "outputId": "4b914b51-111c-485b-d92b-92d5a8dc705e"
      },
      "execution_count": null,
      "outputs": [
        {
          "output_type": "stream",
          "name": "stdout",
          "text": [
            "Ejemplo 12\n",
            "1. Definir función\n",
            "2. Llamar función\n",
            "20\n"
          ]
        }
      ]
    },
    {
      "cell_type": "code",
      "source": [
        "# Ejercicio 12, Crear una función recursiva para obtener el factorial de un número\n",
        "# 5!=5∗4∗3∗2∗1=120\n",
        "def factorial(numero):\n",
        "    if numero == 0:\n",
        "        return 1\n",
        "    else:\n",
        "        return numero*factorial(numero-1)\n",
        "\n",
        "resultado = factorial(5)\n",
        "print (resultado)"
      ],
      "metadata": {
        "colab": {
          "base_uri": "https://localhost:8080/"
        },
        "id": "gCKvsfKwuPib",
        "outputId": "a89718bd-4a6c-42bb-f9a7-9d67dfebfacb"
      },
      "execution_count": null,
      "outputs": [
        {
          "output_type": "stream",
          "name": "stdout",
          "text": [
            "120\n"
          ]
        }
      ]
    },
    {
      "cell_type": "code",
      "source": [
        "# Funciones anonimas o lambda\n",
        "# funcion sin nombre, se pasa como argumento, en una linea\n",
        "# => guardar una funcion en una variable\n",
        "# para peocesar datos"
      ],
      "metadata": {
        "id": "oIRSgON1uPlK"
      },
      "execution_count": null,
      "outputs": []
    },
    {
      "cell_type": "code",
      "source": [
        "# Ejemplo 13, Crear una función anónima para obtener el cuadrado de un número\n",
        "print (\"Ejemplo 13\")\n",
        "cuadrado = lambda numero: numero**2\n",
        "resultado = cuadrado(5)\n",
        "print (resultado)\n",
        "resultado = cuadrado(10)\n",
        "print (resultado)"
      ],
      "metadata": {
        "colab": {
          "base_uri": "https://localhost:8080/"
        },
        "id": "sUv2mwMLxgDs",
        "outputId": "276defdb-c415-437c-8424-f87c6e6aa8e2"
      },
      "execution_count": null,
      "outputs": [
        {
          "output_type": "stream",
          "name": "stdout",
          "text": [
            "Ejemplo 13\n",
            "25\n",
            "100\n"
          ]
        }
      ]
    },
    {
      "cell_type": "code",
      "source": [
        "# Ejercicio 13, Crear una función anónima para obtener de una cadena las letras\n",
        "# solo los alfanuméricos y convertir en mayúsculas\n",
        "cadena = \"Python es un lenguaje de programación\"\n",
        "limpiar = lambda cadena: \"\".join([letra for letra in cadena if letra.isalnum()]).upper()\n",
        "resultado = limpiar(cadena)\n",
        "print (cadena)\n",
        "print (resultado)"
      ],
      "metadata": {
        "colab": {
          "base_uri": "https://localhost:8080/"
        },
        "id": "FL19foGUxgG7",
        "outputId": "3b25a5d1-d28e-4002-bc44-40ef281f6d9a"
      },
      "execution_count": null,
      "outputs": [
        {
          "output_type": "stream",
          "name": "stdout",
          "text": [
            "Python es un lenguaje de programación\n",
            "PYTHONESUNLENGUAJEDEPROGRAMACIÓN\n"
          ]
        }
      ]
    }
  ]
}