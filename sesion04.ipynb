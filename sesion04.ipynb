{
 "cells": [
  {
   "cell_type": "code",
   "execution_count": 7,
   "metadata": {},
   "outputs": [
    {
     "name": "stdout",
     "output_type": "stream",
     "text": [
      "Hola mundo, desde NoteBook!!!!  PYTHON\n"
     ]
    }
   ],
   "source": [
    "# Code 01\n",
    "print(\"Hola mundo, desde NoteBook!!!!  PYTHON\")"
   ]
  },
  {
   "cell_type": "code",
   "execution_count": 12,
   "metadata": {},
   "outputs": [
    {
     "name": "stdout",
     "output_type": "stream",
     "text": [
      "     *     \n",
      "    ***    \n",
      "   *****    \n",
      "  *******   \n",
      "    **  \n",
      "   ****\n"
     ]
    }
   ],
   "source": [
    "# Dibujar un arbol con prints\n",
    "print(\"     *     \")\n",
    "print(\"    ***    \")\n",
    "print(\"   *****    \")\n",
    "print(\"  *******   \")\n",
    "print(\"    **  \")\n",
    "print(\"   ****\")\n"
   ]
  },
  {
   "attachments": {},
   "cell_type": "markdown",
   "metadata": {},
   "source": [
    "# Sesión 04\n",
    "- Mi primer notebook\n",
    "- Imprimir árbol\n",
    "- Crear Markdown\n",
    "- Subir a mi repositorio de GitHub\n",
    "- Dibujar un emoji [probar con win + .]"
   ]
  }
 ],
 "metadata": {
  "kernelspec": {
   "display_name": "Python 3",
   "language": "python",
   "name": "python3"
  },
  "language_info": {
   "codemirror_mode": {
    "name": "ipython",
    "version": 3
   },
   "file_extension": ".py",
   "mimetype": "text/x-python",
   "name": "python",
   "nbconvert_exporter": "python",
   "pygments_lexer": "ipython3",
   "version": "3.11.3"
  },
  "orig_nbformat": 4
 },
 "nbformat": 4,
 "nbformat_minor": 2
}
